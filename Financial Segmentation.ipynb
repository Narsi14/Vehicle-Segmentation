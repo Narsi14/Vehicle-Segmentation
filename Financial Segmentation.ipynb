{
 "cells": [
  {
   "cell_type": "markdown",
   "id": "08c05d7d",
   "metadata": {
    "id": "CO_1ZYR6V33S",
    "papermill": {
     "duration": 0.025545,
     "end_time": "2022-11-26T19:10:31.492090",
     "exception": false,
     "start_time": "2022-11-26T19:10:31.466545",
     "status": "completed"
    },
    "tags": []
   },
   "source": [
    "**IMPORT LIBRARIES**\n",
    "\n"
   ]
  },
  {
   "cell_type": "code",
   "execution_count": 1,
   "id": "7f3589aa",
   "metadata": {
    "execution": {
     "iopub.execute_input": "2022-11-26T19:10:31.539222Z",
     "iopub.status.busy": "2022-11-26T19:10:31.538157Z",
     "iopub.status.idle": "2022-11-26T19:10:32.920007Z",
     "shell.execute_reply": "2022-11-26T19:10:32.918913Z"
    },
    "id": "BMDeWZagDV6G",
    "papermill": {
     "duration": 1.409749,
     "end_time": "2022-11-26T19:10:32.923078",
     "exception": false,
     "start_time": "2022-11-26T19:10:31.513329",
     "status": "completed"
    },
    "tags": []
   },
   "outputs": [],
   "source": [
    "#Import Libraries\n",
    "import numpy as np\n",
    "import pandas as pd\n",
    "import seaborn as sns\n",
    "import matplotlib.pyplot as plt\n",
    "import sklearn\n",
    "%matplotlib inline\n",
    "import warnings\n",
    "warnings.filterwarnings('ignore')"
   ]
  },
  {
   "cell_type": "code",
   "execution_count": 2,
   "id": "61c21daf",
   "metadata": {
    "execution": {
     "iopub.execute_input": "2022-11-26T19:10:32.967080Z",
     "iopub.status.busy": "2022-11-26T19:10:32.966631Z",
     "iopub.status.idle": "2022-11-26T19:10:32.995981Z",
     "shell.execute_reply": "2022-11-26T19:10:32.994712Z"
    },
    "id": "onQnt5xeDZgW",
    "papermill": {
     "duration": 0.054665,
     "end_time": "2022-11-26T19:10:32.998824",
     "exception": false,
     "start_time": "2022-11-26T19:10:32.944159",
     "status": "completed"
    },
    "tags": []
   },
   "outputs": [],
   "source": [
    "#Read File\n",
    "df_Original = pd.read_csv('/kaggle/input/ev-data/EV_Data.csv')\n",
    "pd.set_option('display.float_format', lambda x: '%.3f' % x)\n",
    "df = df_Original.copy()"
   ]
  },
  {
   "cell_type": "code",
   "execution_count": 3,
   "id": "4667b075",
   "metadata": {
    "execution": {
     "iopub.execute_input": "2022-11-26T19:10:33.044901Z",
     "iopub.status.busy": "2022-11-26T19:10:33.043562Z",
     "iopub.status.idle": "2022-11-26T19:10:33.071089Z",
     "shell.execute_reply": "2022-11-26T19:10:33.069819Z"
    },
    "id": "iQRy-cYNDfX-",
    "outputId": "7fb01004-3ffd-4d5b-d6f5-6a418ca5e172",
    "papermill": {
     "duration": 0.053325,
     "end_time": "2022-11-26T19:10:33.074158",
     "exception": false,
     "start_time": "2022-11-26T19:10:33.020833",
     "status": "completed"
    },
    "tags": []
   },
   "outputs": [
    {
     "data": {
      "text/html": [
       "<div>\n",
       "<style scoped>\n",
       "    .dataframe tbody tr th:only-of-type {\n",
       "        vertical-align: middle;\n",
       "    }\n",
       "\n",
       "    .dataframe tbody tr th {\n",
       "        vertical-align: top;\n",
       "    }\n",
       "\n",
       "    .dataframe thead th {\n",
       "        text-align: right;\n",
       "    }\n",
       "</style>\n",
       "<table border=\"1\" class=\"dataframe\">\n",
       "  <thead>\n",
       "    <tr style=\"text-align: right;\">\n",
       "      <th></th>\n",
       "      <th>Unnamed: 0</th>\n",
       "      <th>Age</th>\n",
       "      <th>City</th>\n",
       "      <th>Profession</th>\n",
       "      <th>Marital Status</th>\n",
       "      <th>Education</th>\n",
       "      <th>No. of Family members</th>\n",
       "      <th>Annual Income</th>\n",
       "      <th>Would you prefer replacing all your vehicles to Electronic vehicles?</th>\n",
       "      <th>If Yes/Maybe what type of  EV would you prefer?</th>\n",
       "      <th>Do you think Electronic Vehicles are economical?</th>\n",
       "      <th>Which brand of vehicle do you currently own?</th>\n",
       "      <th>How much money could you spend on an Electronic vehicle?</th>\n",
       "      <th>Preference for wheels in EV</th>\n",
       "      <th>Do you think Electronic vehicles will replace fuel cars in India?</th>\n",
       "    </tr>\n",
       "  </thead>\n",
       "  <tbody>\n",
       "    <tr>\n",
       "      <th>0</th>\n",
       "      <td>0</td>\n",
       "      <td>30</td>\n",
       "      <td>Nabha</td>\n",
       "      <td>None</td>\n",
       "      <td>Single</td>\n",
       "      <td>Graduate</td>\n",
       "      <td>5</td>\n",
       "      <td>1193875.647</td>\n",
       "      <td>Maybe</td>\n",
       "      <td>SUV</td>\n",
       "      <td>Yes</td>\n",
       "      <td>Hyundai</td>\n",
       "      <td>&lt;5 lakhs</td>\n",
       "      <td>2</td>\n",
       "      <td>I don't think so</td>\n",
       "    </tr>\n",
       "    <tr>\n",
       "      <th>1</th>\n",
       "      <td>1</td>\n",
       "      <td>27</td>\n",
       "      <td>Pune</td>\n",
       "      <td>None</td>\n",
       "      <td>Single</td>\n",
       "      <td>Graduate</td>\n",
       "      <td>4</td>\n",
       "      <td>1844540.398</td>\n",
       "      <td>Yes</td>\n",
       "      <td>SUV</td>\n",
       "      <td>Yes</td>\n",
       "      <td>Honda</td>\n",
       "      <td>&lt;15 lakhs</td>\n",
       "      <td>4</td>\n",
       "      <td>Yes, in &lt;20years</td>\n",
       "    </tr>\n",
       "    <tr>\n",
       "      <th>2</th>\n",
       "      <td>2</td>\n",
       "      <td>32</td>\n",
       "      <td>Kashipur</td>\n",
       "      <td>None</td>\n",
       "      <td>Single</td>\n",
       "      <td>Graduate</td>\n",
       "      <td>4</td>\n",
       "      <td>2948150.113</td>\n",
       "      <td>Yes</td>\n",
       "      <td>Hatchback</td>\n",
       "      <td>Yes</td>\n",
       "      <td>KIA</td>\n",
       "      <td>&lt;15 lakhs</td>\n",
       "      <td>4</td>\n",
       "      <td>Yes, in &lt;20years</td>\n",
       "    </tr>\n",
       "    <tr>\n",
       "      <th>3</th>\n",
       "      <td>3</td>\n",
       "      <td>55</td>\n",
       "      <td>Pune</td>\n",
       "      <td>Business</td>\n",
       "      <td>Single</td>\n",
       "      <td>Graduate</td>\n",
       "      <td>3</td>\n",
       "      <td>2832379.739</td>\n",
       "      <td>Maybe</td>\n",
       "      <td>Hatchback</td>\n",
       "      <td>No</td>\n",
       "      <td>Hyundai</td>\n",
       "      <td>&lt;5 lakhs</td>\n",
       "      <td>4</td>\n",
       "      <td>Yes, in &lt;10 years</td>\n",
       "    </tr>\n",
       "    <tr>\n",
       "      <th>4</th>\n",
       "      <td>4</td>\n",
       "      <td>26</td>\n",
       "      <td>Satara</td>\n",
       "      <td>None</td>\n",
       "      <td>Single</td>\n",
       "      <td>Graduate</td>\n",
       "      <td>4</td>\n",
       "      <td>2638750.576</td>\n",
       "      <td>Yes</td>\n",
       "      <td>Sedan</td>\n",
       "      <td>Yes</td>\n",
       "      <td>McLaren</td>\n",
       "      <td>&lt;15 lakhs</td>\n",
       "      <td>4</td>\n",
       "      <td>Yes, in &lt;20years</td>\n",
       "    </tr>\n",
       "  </tbody>\n",
       "</table>\n",
       "</div>"
      ],
      "text/plain": [
       "   Unnamed: 0  Age       City Profession Marital Status Education  \\\n",
       "0           0   30      Nabha       None         Single  Graduate   \n",
       "1           1   27       Pune       None         Single  Graduate   \n",
       "2           2   32  Kashipur        None         Single  Graduate   \n",
       "3           3   55       Pune   Business         Single  Graduate   \n",
       "4           4   26     Satara       None         Single  Graduate   \n",
       "\n",
       "   No. of Family members  Annual Income  \\\n",
       "0                      5    1193875.647   \n",
       "1                      4    1844540.398   \n",
       "2                      4    2948150.113   \n",
       "3                      3    2832379.739   \n",
       "4                      4    2638750.576   \n",
       "\n",
       "  Would you prefer replacing all your vehicles to Electronic vehicles?  \\\n",
       "0                                              Maybe                     \n",
       "1                                                Yes                     \n",
       "2                                                Yes                     \n",
       "3                                              Maybe                     \n",
       "4                                                Yes                     \n",
       "\n",
       "  If Yes/Maybe what type of  EV would you prefer?  \\\n",
       "0                                             SUV   \n",
       "1                                             SUV   \n",
       "2                                       Hatchback   \n",
       "3                                       Hatchback   \n",
       "4                                           Sedan   \n",
       "\n",
       "  Do you think Electronic Vehicles are economical?  \\\n",
       "0                                              Yes   \n",
       "1                                              Yes   \n",
       "2                                              Yes   \n",
       "3                                               No   \n",
       "4                                              Yes   \n",
       "\n",
       "  Which brand of vehicle do you currently own?  \\\n",
       "0                                      Hyundai   \n",
       "1                                        Honda   \n",
       "2                                          KIA   \n",
       "3                                      Hyundai   \n",
       "4                                     McLaren    \n",
       "\n",
       "  How much money could you spend on an Electronic vehicle?  \\\n",
       "0                                           <5 lakhs         \n",
       "1                                          <15 lakhs         \n",
       "2                                          <15 lakhs         \n",
       "3                                           <5 lakhs         \n",
       "4                                          <15 lakhs         \n",
       "\n",
       "   Preference for wheels in EV  \\\n",
       "0                            2   \n",
       "1                            4   \n",
       "2                            4   \n",
       "3                            4   \n",
       "4                            4   \n",
       "\n",
       "  Do you think Electronic vehicles will replace fuel cars in India?  \n",
       "0                                   I don't think so                 \n",
       "1                                   Yes, in <20years                 \n",
       "2                                   Yes, in <20years                 \n",
       "3                                  Yes, in <10 years                 \n",
       "4                                   Yes, in <20years                 "
      ]
     },
     "execution_count": 3,
     "metadata": {},
     "output_type": "execute_result"
    }
   ],
   "source": [
    "df.head()"
   ]
  },
  {
   "cell_type": "markdown",
   "id": "7c4b391b",
   "metadata": {
    "id": "kSFxxJBMWBe1",
    "papermill": {
     "duration": 0.021918,
     "end_time": "2022-11-26T19:10:33.117721",
     "exception": false,
     "start_time": "2022-11-26T19:10:33.095803",
     "status": "completed"
    },
    "tags": []
   },
   "source": [
    "**DATA PREPROCESSING**"
   ]
  },
  {
   "cell_type": "code",
   "execution_count": 4,
   "id": "70fbb89f",
   "metadata": {
    "execution": {
     "iopub.execute_input": "2022-11-26T19:10:33.165423Z",
     "iopub.status.busy": "2022-11-26T19:10:33.164468Z",
     "iopub.status.idle": "2022-11-26T19:10:33.176019Z",
     "shell.execute_reply": "2022-11-26T19:10:33.174897Z"
    },
    "id": "cSREX24wRk1K",
    "outputId": "dd24ec94-68d3-44de-e1c3-7a0a6c2981a0",
    "papermill": {
     "duration": 0.037927,
     "end_time": "2022-11-26T19:10:33.178472",
     "exception": false,
     "start_time": "2022-11-26T19:10:33.140545",
     "status": "completed"
    },
    "tags": []
   },
   "outputs": [
    {
     "data": {
      "text/plain": [
       "Unnamed: 0                                                              0\n",
       "Age                                                                     0\n",
       "City                                                                    0\n",
       "Profession                                                              0\n",
       "Marital Status                                                          0\n",
       "Education                                                               0\n",
       "No. of Family members                                                   0\n",
       "Annual Income                                                           0\n",
       "Would you prefer replacing all your vehicles to Electronic vehicles?    0\n",
       "If Yes/Maybe what type of  EV would you prefer?                         0\n",
       "Do you think Electronic Vehicles are economical?                        0\n",
       "Which brand of vehicle do you currently own?                            0\n",
       "How much money could you spend on an Electronic vehicle?                0\n",
       "Preference for wheels in EV                                             0\n",
       "Do you think Electronic vehicles will replace fuel cars in India?       0\n",
       "dtype: int64"
      ]
     },
     "execution_count": 4,
     "metadata": {},
     "output_type": "execute_result"
    }
   ],
   "source": [
    "df.isnull().sum()"
   ]
  },
  {
   "cell_type": "code",
   "execution_count": 5,
   "id": "3a9d5865",
   "metadata": {
    "execution": {
     "iopub.execute_input": "2022-11-26T19:10:33.223524Z",
     "iopub.status.busy": "2022-11-26T19:10:33.223122Z",
     "iopub.status.idle": "2022-11-26T19:10:33.230098Z",
     "shell.execute_reply": "2022-11-26T19:10:33.229026Z"
    },
    "id": "l9-qTw-XONDM",
    "outputId": "c9ce777c-e41e-4c9f-bffe-2ed0607764a6",
    "papermill": {
     "duration": 0.032626,
     "end_time": "2022-11-26T19:10:33.232629",
     "exception": false,
     "start_time": "2022-11-26T19:10:33.200003",
     "status": "completed"
    },
    "tags": []
   },
   "outputs": [
    {
     "data": {
      "text/plain": [
       "Index(['Unnamed: 0', 'Age', 'City', 'Profession', 'Marital Status',\n",
       "       'Education', 'No. of Family members', 'Annual Income',\n",
       "       'Would you prefer replacing all your vehicles to Electronic vehicles?',\n",
       "       'If Yes/Maybe what type of  EV would you prefer?',\n",
       "       'Do you think Electronic Vehicles are economical?',\n",
       "       'Which brand of vehicle do you currently own?',\n",
       "       'How much money could you spend on an Electronic vehicle?',\n",
       "       'Preference for wheels in EV',\n",
       "       'Do you think Electronic vehicles will replace fuel cars in India?'],\n",
       "      dtype='object')"
      ]
     },
     "execution_count": 5,
     "metadata": {},
     "output_type": "execute_result"
    }
   ],
   "source": [
    "df.columns"
   ]
  },
  {
   "cell_type": "code",
   "execution_count": 6,
   "id": "b36089de",
   "metadata": {
    "execution": {
     "iopub.execute_input": "2022-11-26T19:10:33.279306Z",
     "iopub.status.busy": "2022-11-26T19:10:33.278896Z",
     "iopub.status.idle": "2022-11-26T19:10:33.286264Z",
     "shell.execute_reply": "2022-11-26T19:10:33.285101Z"
    },
    "id": "AID0vyHADh-O",
    "outputId": "fdcad485-9b1c-4372-b65d-e152f2710995",
    "papermill": {
     "duration": 0.033191,
     "end_time": "2022-11-26T19:10:33.288688",
     "exception": false,
     "start_time": "2022-11-26T19:10:33.255497",
     "status": "completed"
    },
    "tags": []
   },
   "outputs": [
    {
     "data": {
      "text/plain": [
       "(1000, 15)"
      ]
     },
     "execution_count": 6,
     "metadata": {},
     "output_type": "execute_result"
    }
   ],
   "source": [
    "df.shape"
   ]
  },
  {
   "cell_type": "code",
   "execution_count": 7,
   "id": "390c78a8",
   "metadata": {
    "execution": {
     "iopub.execute_input": "2022-11-26T19:10:33.334976Z",
     "iopub.status.busy": "2022-11-26T19:10:33.334052Z",
     "iopub.status.idle": "2022-11-26T19:10:33.362108Z",
     "shell.execute_reply": "2022-11-26T19:10:33.360926Z"
    },
    "id": "PP5sbmKXDnn2",
    "outputId": "8dd592d8-8be8-4cb6-d272-32d0127462f1",
    "papermill": {
     "duration": 0.053715,
     "end_time": "2022-11-26T19:10:33.364563",
     "exception": false,
     "start_time": "2022-11-26T19:10:33.310848",
     "status": "completed"
    },
    "tags": []
   },
   "outputs": [
    {
     "name": "stdout",
     "output_type": "stream",
     "text": [
      "<class 'pandas.core.frame.DataFrame'>\n",
      "RangeIndex: 1000 entries, 0 to 999\n",
      "Data columns (total 15 columns):\n",
      " #   Column                                                                Non-Null Count  Dtype  \n",
      "---  ------                                                                --------------  -----  \n",
      " 0   Unnamed: 0                                                            1000 non-null   int64  \n",
      " 1   Age                                                                   1000 non-null   int64  \n",
      " 2   City                                                                  1000 non-null   object \n",
      " 3   Profession                                                            1000 non-null   object \n",
      " 4   Marital Status                                                        1000 non-null   object \n",
      " 5   Education                                                             1000 non-null   object \n",
      " 6   No. of Family members                                                 1000 non-null   int64  \n",
      " 7   Annual Income                                                         1000 non-null   float64\n",
      " 8   Would you prefer replacing all your vehicles to Electronic vehicles?  1000 non-null   object \n",
      " 9   If Yes/Maybe what type of  EV would you prefer?                       1000 non-null   object \n",
      " 10  Do you think Electronic Vehicles are economical?                      1000 non-null   object \n",
      " 11  Which brand of vehicle do you currently own?                          1000 non-null   object \n",
      " 12  How much money could you spend on an Electronic vehicle?              1000 non-null   object \n",
      " 13  Preference for wheels in EV                                           1000 non-null   int64  \n",
      " 14  Do you think Electronic vehicles will replace fuel cars in India?     1000 non-null   object \n",
      "dtypes: float64(1), int64(4), object(10)\n",
      "memory usage: 117.3+ KB\n"
     ]
    }
   ],
   "source": [
    "#Data Preprocessing\n",
    "df.info()"
   ]
  },
  {
   "cell_type": "code",
   "execution_count": 8,
   "id": "28aa278c",
   "metadata": {
    "execution": {
     "iopub.execute_input": "2022-11-26T19:10:33.412958Z",
     "iopub.status.busy": "2022-11-26T19:10:33.412265Z",
     "iopub.status.idle": "2022-11-26T19:10:33.421784Z",
     "shell.execute_reply": "2022-11-26T19:10:33.420636Z"
    },
    "id": "1VVaEmMgDsQh",
    "outputId": "198bfc30-fb1c-4f26-8ccd-94dc748cb95b",
    "papermill": {
     "duration": 0.036463,
     "end_time": "2022-11-26T19:10:33.424217",
     "exception": false,
     "start_time": "2022-11-26T19:10:33.387754",
     "status": "completed"
    },
    "tags": []
   },
   "outputs": [
    {
     "data": {
      "text/plain": [
       "array([ 30,  27,  32,  55,  26,  28,  23,  25,  43,  59,  21,  29,  56,\n",
       "        70,  50,  24,  61,  39,  31,  40,  18,  58,  22,  96,  64,  52,\n",
       "        54,  42,  49,  57,  46,  36,  20,  19,  65,  17,  60,  44,  45,\n",
       "        47,  82,  33,  37,  48,  69,  67,  86,  62,  66,  34,  63,  41,\n",
       "        68,  16,  53,  15, 118,  38])"
      ]
     },
     "execution_count": 8,
     "metadata": {},
     "output_type": "execute_result"
    }
   ],
   "source": [
    "df['Age'].unique()"
   ]
  },
  {
   "cell_type": "code",
   "execution_count": 9,
   "id": "7fa6b820",
   "metadata": {
    "execution": {
     "iopub.execute_input": "2022-11-26T19:10:33.473336Z",
     "iopub.status.busy": "2022-11-26T19:10:33.472575Z",
     "iopub.status.idle": "2022-11-26T19:10:33.480689Z",
     "shell.execute_reply": "2022-11-26T19:10:33.479467Z"
    },
    "id": "lVucOEAlDv5p",
    "outputId": "ed66be89-849c-4c0f-a07f-8cfe29e6fc76",
    "papermill": {
     "duration": 0.035324,
     "end_time": "2022-11-26T19:10:33.482955",
     "exception": false,
     "start_time": "2022-11-26T19:10:33.447631",
     "status": "completed"
    },
    "tags": []
   },
   "outputs": [
    {
     "data": {
      "text/plain": [
       "array(['Nabha', 'Pune', 'Kashipur ', 'Satara', 'Noida', 'Delhi', 'Mumbai',\n",
       "       'pune', 'solapur', 'Haldwani ', 'Nellore ', 'Pune ', 'Haldwani',\n",
       "       'Banglore ', 'Faridabad ', 'Nagpur', 'Chandrapur ', 'Chennai',\n",
       "       'Gurugram ', 'Nashik', 'Bengaluru', 'Mumbai ', 'Hakdwani',\n",
       "       'Patiyala', 'pUNE', 'Ahmedabad', 'Karnal', 'Rewari', 'New Delhi',\n",
       "       'Serampore', 'Jhansi', 'New Delhi ', 'Jalandhar', 'Delhi ',\n",
       "       'nashik'], dtype=object)"
      ]
     },
     "execution_count": 9,
     "metadata": {},
     "output_type": "execute_result"
    }
   ],
   "source": [
    "df['City'].unique()"
   ]
  },
  {
   "cell_type": "code",
   "execution_count": 14,
   "id": "498d77b5",
   "metadata": {
    "execution": {
     "iopub.execute_input": "2022-11-26T19:10:33.795313Z",
     "iopub.status.busy": "2022-11-26T19:10:33.794324Z",
     "iopub.status.idle": "2022-11-26T19:10:33.802628Z",
     "shell.execute_reply": "2022-11-26T19:10:33.801431Z"
    },
    "papermill": {
     "duration": 0.034743,
     "end_time": "2022-11-26T19:10:33.805119",
     "exception": false,
     "start_time": "2022-11-26T19:10:33.770376",
     "status": "completed"
    },
    "tags": []
   },
   "outputs": [],
   "source": [
    "df.drop('Unnamed: 0', axis=1, inplace = True)"
   ]
  },
  {
   "cell_type": "markdown",
   "id": "9a46dcfb",
   "metadata": {
    "id": "yYkBHvHqWJIn",
    "papermill": {
     "duration": 0.022122,
     "end_time": "2022-11-26T19:10:33.849937",
     "exception": false,
     "start_time": "2022-11-26T19:10:33.827815",
     "status": "completed"
    },
    "tags": []
   },
   "source": [
    "**DATA VISUALIZATION**"
   ]
  },
  {
   "cell_type": "code",
   "execution_count": 15,
   "id": "a8959c3c",
   "metadata": {
    "execution": {
     "iopub.execute_input": "2022-11-26T19:10:33.896270Z",
     "iopub.status.busy": "2022-11-26T19:10:33.895833Z",
     "iopub.status.idle": "2022-11-26T19:10:38.576976Z",
     "shell.execute_reply": "2022-11-26T19:10:38.575741Z"
    },
    "papermill": {
     "duration": 4.707225,
     "end_time": "2022-11-26T19:10:38.579353",
     "exception": false,
     "start_time": "2022-11-26T19:10:33.872128",
     "status": "completed"
    },
    "tags": []
   },
   "outputs": [
    {
     "data": {
      "image/png": "[encoded data removed]",
      "text/plain": [
       "<Figure size 360x360 with 1 Axes>"
      ]
     },
     "metadata": {
      "needs_background": "light"
     },
     "output_type": "display_data"
    },
    {
     "data": {
      "image/png": "[encoded data removed]",
      "text/plain": [
       "<Figure size 360x360 with 1 Axes>"
      ]
     },
     "metadata": {
      "needs_background": "light"
     },
     "output_type": "display_data"
    },
    {
     "data": {
      "image/png": "[encoded data removed]",
      "text/plain": [
       "<Figure size 360x360 with 1 Axes>"
      ]
     },
     "metadata": {
      "needs_background": "light"
     },
     "output_type": "display_data"
    },
    {
     "data": {
      "image/png": "[encoded data removed]",
      "text/plain": [
       "<Figure size 360x360 with 1 Axes>"
      ]
     },
     "metadata": {
      "needs_background": "light"
     },
     "output_type": "display_data"
    },
    {
     "data": {
      "image/png": "[encoded data removed]",
      "text/plain": [
       "<Figure size 360x360 with 1 Axes>"
      ]
     },
     "metadata": {
      "needs_background": "light"
     },
     "output_type": "display_data"
    },
    {
     "data": {
      "image/png": "[encoded data removed]",
      "text/plain": [
       "<Figure size 360x360 with 1 Axes>"
      ]
     },
     "metadata": {
      "needs_background": "light"
     },
     "output_type": "display_data"
    },
    {
     "data": {
      "image/png": "[encoded data removed]",
      "text/plain": [
       "<Figure size 360x360 with 1 Axes>"
      ]
     },
     "metadata": {
      "needs_background": "light"
     },
     "output_type": "display_data"
    },
    {
     "data": {
      "image/png": "[encoded data removed]",
      "text/plain": [
       "<Figure size 360x360 with 1 Axes>"
      ]
     },
     "metadata": {
      "needs_background": "light"
     },
     "output_type": "display_data"
    },
    {
     "data": {
      "image/png": "[encoded data removed]",
      "text/plain": [
       "<Figure size 360x360 with 1 Axes>"
      ]
     },
     "metadata": {
      "needs_background": "light"
     },
     "output_type": "display_data"
    },
    {
     "data": {
      "image/png": "[encoded data removed]",
      "text/plain": [
       "<Figure size 360x360 with 1 Axes>"
      ]
     },
     "metadata": {
      "needs_background": "light"
     },
     "output_type": "display_data"
    },
    {
     "data": {
      "image/png": "[encoded data removed]",
      "text/plain": [
       "<Figure size 360x360 with 1 Axes>"
      ]
     },
     "metadata": {
      "needs_background": "light"
     },
     "output_type": "display_data"
    },
    {
     "data": {
      "image/png": "[encoded data removed]",
      "text/plain": [
       "<Figure size 360x360 with 1 Axes>"
      ]
     },
     "metadata": {
      "needs_background": "light"
     },
     "output_type": "display_data"
    },
    {
     "data": {
      "image/png": "[encoded data removed]",
      "text/plain": [
       "<Figure size 360x360 with 1 Axes>"
      ]
     },
     "metadata": {
      "needs_background": "light"
     },
     "output_type": "display_data"
    },
    {
     "data": {
      "image/png": "[encoded data removed]",
      "text/plain": [
       "<Figure size 360x360 with 1 Axes>"
      ]
     },
     "metadata": {
      "needs_background": "light"
     },
     "output_type": "display_data"
    }
   ],
   "source": [
    "for col in df.columns:\n",
    "    ax= sns.displot(df[col])\n",
    "    ax.set_xticklabels(rotation=90)\n",
    "    "
   ]
  },
  {
   "cell_type": "code",
   "execution_count": 16,
   "id": "866a681d",
   "metadata": {
    "execution": {
     "iopub.execute_input": "2022-11-26T19:10:38.637156Z",
     "iopub.status.busy": "2022-11-26T19:10:38.636759Z",
     "iopub.status.idle": "2022-11-26T19:10:38.642171Z",
     "shell.execute_reply": "2022-11-26T19:10:38.640885Z"
    },
    "papermill": {
     "duration": 0.037351,
     "end_time": "2022-11-26T19:10:38.644845",
     "exception": false,
     "start_time": "2022-11-26T19:10:38.607494",
     "status": "completed"
    },
    "tags": []
   },
   "outputs": [],
   "source": [
    "#Most people prefer 4 wheels vehicle.\n",
    "#Most people believe Electronic vehicle will replace fuel cars in India in less than 20 years."
   ]
  },
  {
   "cell_type": "code",
   "execution_count": 17,
   "id": "d1d217ca",
   "metadata": {
    "execution": {
     "iopub.execute_input": "2022-11-26T19:10:38.701975Z",
     "iopub.status.busy": "2022-11-26T19:10:38.701449Z",
     "iopub.status.idle": "2022-11-26T19:10:38.957828Z",
     "shell.execute_reply": "2022-11-26T19:10:38.956912Z"
    },
    "papermill": {
     "duration": 0.288422,
     "end_time": "2022-11-26T19:10:38.960914",
     "exception": false,
     "start_time": "2022-11-26T19:10:38.672492",
     "status": "completed"
    },
    "tags": []
   },
   "outputs": [
    {
     "data": {
      "image/png": "[encoded data removed]",
      "text/plain": [
       "<Figure size 432x288 with 1 Axes>"
      ]
     },
     "metadata": {
      "needs_background": "light"
     },
     "output_type": "display_data"
    }
   ],
   "source": [
    "sns.countplot(x ='Education', hue = 'Would you prefer replacing all your vehicles to Electronic vehicles?',  data = df, palette = 'Set2')\n",
    "plt.legend(bbox_to_anchor=(1, 0.5))\n",
    "plt.show()"
   ]
  },
  {
   "cell_type": "code",
   "execution_count": 18,
   "id": "086a8ec1",
   "metadata": {
    "execution": {
     "iopub.execute_input": "2022-11-26T19:10:39.024002Z",
     "iopub.status.busy": "2022-11-26T19:10:39.023410Z",
     "iopub.status.idle": "2022-11-26T19:10:39.299348Z",
     "shell.execute_reply": "2022-11-26T19:10:39.298182Z"
    },
    "papermill": {
     "duration": 0.307826,
     "end_time": "2022-11-26T19:10:39.301874",
     "exception": false,
     "start_time": "2022-11-26T19:10:38.994048",
     "status": "completed"
    },
    "tags": []
   },
   "outputs": [
    {
     "data": {
      "image/png": "[encoded data removed]",
      "text/plain": [
       "<Figure size 432x288 with 1 Axes>"
      ]
     },
     "metadata": {
      "needs_background": "light"
     },
     "output_type": "display_data"
    }
   ],
   "source": [
    "sns.countplot(x ='Marital Status', hue = 'How much money could you spend on an Electronic vehicle?',  data = df, palette = 'Set3')\n",
    "plt.legend(loc='center right')\n",
    "plt.show()"
   ]
  },
  {
   "cell_type": "code",
   "execution_count": 19,
   "id": "56bd41ac",
   "metadata": {
    "execution": {
     "iopub.execute_input": "2022-11-26T19:10:39.359282Z",
     "iopub.status.busy": "2022-11-26T19:10:39.357993Z",
     "iopub.status.idle": "2022-11-26T19:10:39.384672Z",
     "shell.execute_reply": "2022-11-26T19:10:39.383546Z"
    },
    "id": "N-eISRssMgPX",
    "outputId": "fb8bc867-8997-4dfd-8b4d-bbdd9be92837",
    "papermill": {
     "duration": 0.057798,
     "end_time": "2022-11-26T19:10:39.387066",
     "exception": false,
     "start_time": "2022-11-26T19:10:39.329268",
     "status": "completed"
    },
    "tags": []
   },
   "outputs": [
    {
     "data": {
      "text/html": [
       "<div>\n",
       "<style scoped>\n",
       "    .dataframe tbody tr th:only-of-type {\n",
       "        vertical-align: middle;\n",
       "    }\n",
       "\n",
       "    .dataframe tbody tr th {\n",
       "        vertical-align: top;\n",
       "    }\n",
       "\n",
       "    .dataframe thead th {\n",
       "        text-align: right;\n",
       "    }\n",
       "</style>\n",
       "<table border=\"1\" class=\"dataframe\">\n",
       "  <thead>\n",
       "    <tr style=\"text-align: right;\">\n",
       "      <th></th>\n",
       "      <th>Age</th>\n",
       "      <th>No. of Family members</th>\n",
       "      <th>Annual Income</th>\n",
       "      <th>Preference for wheels in EV</th>\n",
       "    </tr>\n",
       "  </thead>\n",
       "  <tbody>\n",
       "    <tr>\n",
       "      <th>count</th>\n",
       "      <td>1000.000</td>\n",
       "      <td>1000.000</td>\n",
       "      <td>1000.000</td>\n",
       "      <td>1000.000</td>\n",
       "    </tr>\n",
       "    <tr>\n",
       "      <th>mean</th>\n",
       "      <td>31.800</td>\n",
       "      <td>4.118</td>\n",
       "      <td>2258341.824</td>\n",
       "      <td>3.349</td>\n",
       "    </tr>\n",
       "    <tr>\n",
       "      <th>std</th>\n",
       "      <td>11.295</td>\n",
       "      <td>1.470</td>\n",
       "      <td>999355.758</td>\n",
       "      <td>0.888</td>\n",
       "    </tr>\n",
       "    <tr>\n",
       "      <th>min</th>\n",
       "      <td>15.000</td>\n",
       "      <td>0.000</td>\n",
       "      <td>-376150.863</td>\n",
       "      <td>2.000</td>\n",
       "    </tr>\n",
       "    <tr>\n",
       "      <th>25%</th>\n",
       "      <td>26.000</td>\n",
       "      <td>4.000</td>\n",
       "      <td>1782115.520</td>\n",
       "      <td>2.000</td>\n",
       "    </tr>\n",
       "    <tr>\n",
       "      <th>50%</th>\n",
       "      <td>29.000</td>\n",
       "      <td>4.000</td>\n",
       "      <td>2329246.375</td>\n",
       "      <td>4.000</td>\n",
       "    </tr>\n",
       "    <tr>\n",
       "      <th>75%</th>\n",
       "      <td>31.000</td>\n",
       "      <td>5.000</td>\n",
       "      <td>2753169.612</td>\n",
       "      <td>4.000</td>\n",
       "    </tr>\n",
       "    <tr>\n",
       "      <th>max</th>\n",
       "      <td>118.000</td>\n",
       "      <td>8.000</td>\n",
       "      <td>12821282.030</td>\n",
       "      <td>4.000</td>\n",
       "    </tr>\n",
       "  </tbody>\n",
       "</table>\n",
       "</div>"
      ],
      "text/plain": [
       "           Age  No. of Family members  Annual Income  \\\n",
       "count 1000.000               1000.000       1000.000   \n",
       "mean    31.800                  4.118    2258341.824   \n",
       "std     11.295                  1.470     999355.758   \n",
       "min     15.000                  0.000    -376150.863   \n",
       "25%     26.000                  4.000    1782115.520   \n",
       "50%     29.000                  4.000    2329246.375   \n",
       "75%     31.000                  5.000    2753169.612   \n",
       "max    118.000                  8.000   12821282.030   \n",
       "\n",
       "       Preference for wheels in EV  \n",
       "count                     1000.000  \n",
       "mean                         3.349  \n",
       "std                          0.888  \n",
       "min                          2.000  \n",
       "25%                          2.000  \n",
       "50%                          4.000  \n",
       "75%                          4.000  \n",
       "max                          4.000  "
      ]
     },
     "execution_count": 19,
     "metadata": {},
     "output_type": "execute_result"
    }
   ],
   "source": [
    "df.describe()"
   ]
  },
  {
   "cell_type": "code",
   "execution_count": 20,
   "id": "e476974d",
   "metadata": {
    "execution": {
     "iopub.execute_input": "2022-11-26T19:10:39.445604Z",
     "iopub.status.busy": "2022-11-26T19:10:39.444703Z",
     "iopub.status.idle": "2022-11-26T19:10:39.707639Z",
     "shell.execute_reply": "2022-11-26T19:10:39.706433Z"
    },
    "id": "XDSeE0LD5gnG",
    "outputId": "4c0744ce-1aeb-4bcf-d50e-7ac65cd8dfb3",
    "papermill": {
     "duration": 0.294977,
     "end_time": "2022-11-26T19:10:39.710975",
     "exception": false,
     "start_time": "2022-11-26T19:10:39.415998",
     "status": "completed"
    },
    "tags": []
   },
   "outputs": [
    {
     "data": {
      "text/plain": [
       "<matplotlib.collections.PathCollection at 0x7f2af9fb96d0>"
      ]
     },
     "execution_count": 20,
     "metadata": {},
     "output_type": "execute_result"
    },
    {
     "data": {
      "image/png": "[encoded data removed]",
      "text/plain": [
       "<Figure size 432x288 with 1 Axes>"
      ]
     },
     "metadata": {
      "needs_background": "light"
     },
     "output_type": "display_data"
    }
   ],
   "source": [
    "plt.xlabel('Age')\n",
    "plt.ylabel('Annual Income')\n",
    "plt.scatter(df['Age'],df['Annual Income'])"
   ]
  },
  {
   "cell_type": "code",
   "execution_count": 21,
   "id": "f630a7e6",
   "metadata": {
    "execution": {
     "iopub.execute_input": "2022-11-26T19:10:39.774088Z",
     "iopub.status.busy": "2022-11-26T19:10:39.773611Z",
     "iopub.status.idle": "2022-11-26T19:10:40.936300Z",
     "shell.execute_reply": "2022-11-26T19:10:40.935014Z"
    },
    "id": "wWHTHWKnUlqh",
    "outputId": "6bba0c68-39f2-416c-eb2d-c8329af201ca",
    "papermill": {
     "duration": 1.195077,
     "end_time": "2022-11-26T19:10:40.938845",
     "exception": false,
     "start_time": "2022-11-26T19:10:39.743768",
     "status": "completed"
    },
    "tags": []
   },
   "outputs": [
    {
     "data": {
      "text/plain": [
       "<AxesSubplot:xlabel='Age', ylabel='count'>"
      ]
     },
     "execution_count": 21,
     "metadata": {},
     "output_type": "execute_result"
    },
    {
     "data": {
      "image/png": "[encoded data removed]",
      "text/plain": [
       "<Figure size 1440x432 with 1 Axes>"
      ]
     },
     "metadata": {
      "needs_background": "light"
     },
     "output_type": "display_data"
    }
   ],
   "source": [
    "plt.figure(figsize=(20,6))\n",
    "sns.countplot(x=\"Age\", data=df, hue=\"Education\")"
   ]
  },
  {
   "cell_type": "code",
   "execution_count": 24,
   "id": "1dabf8be",
   "metadata": {
    "execution": {
     "iopub.execute_input": "2022-11-26T19:10:41.786555Z",
     "iopub.status.busy": "2022-11-26T19:10:41.785812Z",
     "iopub.status.idle": "2022-11-26T19:10:41.969299Z",
     "shell.execute_reply": "2022-11-26T19:10:41.968129Z"
    },
    "id": "bBfv5nazVddm",
    "outputId": "ec2bd00d-af43-43d2-e2ba-82d1e7cdaa00",
    "papermill": {
     "duration": 0.21624,
     "end_time": "2022-11-26T19:10:41.971861",
     "exception": false,
     "start_time": "2022-11-26T19:10:41.755621",
     "status": "completed"
    },
    "tags": []
   },
   "outputs": [
    {
     "data": {
      "text/plain": [
       "<matplotlib.collections.PathCollection at 0x7f2af9c9d590>"
      ]
     },
     "execution_count": 24,
     "metadata": {},
     "output_type": "execute_result"
    },
    {
     "data": {
      "image/png": "[encoded data removed]",
      "text/plain": [
       "<Figure size 432x288 with 1 Axes>"
      ]
     },
     "metadata": {
      "needs_background": "light"
     },
     "output_type": "display_data"
    }
   ],
   "source": [
    "plt.xlabel('Age')\n",
    "plt.ylabel('Preference for wheels in EV')\n",
    "plt.scatter(df['Age'],df['Preference for wheels in EV'])"
   ]
  },
  {
   "cell_type": "code",
   "execution_count": 25,
   "id": "1d629d86",
   "metadata": {
    "execution": {
     "iopub.execute_input": "2022-11-26T19:10:42.031266Z",
     "iopub.status.busy": "2022-11-26T19:10:42.030823Z",
     "iopub.status.idle": "2022-11-26T19:10:42.343392Z",
     "shell.execute_reply": "2022-11-26T19:10:42.342417Z"
    },
    "id": "x6278mZt7_lm",
    "outputId": "180c40ba-248f-48ef-e29c-5c4753524f4d",
    "papermill": {
     "duration": 0.344991,
     "end_time": "2022-11-26T19:10:42.345874",
     "exception": false,
     "start_time": "2022-11-26T19:10:42.000883",
     "status": "completed"
    },
    "tags": []
   },
   "outputs": [
    {
     "data": {
      "text/plain": [
       "<AxesSubplot:>"
      ]
     },
     "execution_count": 25,
     "metadata": {},
     "output_type": "execute_result"
    },
    {
     "data": {
      "image/png": "[encoded data removed]",
      "text/plain": [
       "<Figure size 432x288 with 2 Axes>"
      ]
     },
     "metadata": {
      "needs_background": "light"
     },
     "output_type": "display_data"
    }
   ],
   "source": [
    "# Heatmap of Correlation\n",
    "sns.heatmap(df.corr(), annot=True)"
   ]
  },
  {
   "cell_type": "code",
   "execution_count": 26,
   "id": "8158ded6",
   "metadata": {
    "execution": {
     "iopub.execute_input": "2022-11-26T19:10:42.408898Z",
     "iopub.status.busy": "2022-11-26T19:10:42.407490Z",
     "iopub.status.idle": "2022-11-26T19:10:46.466206Z",
     "shell.execute_reply": "2022-11-26T19:10:46.464865Z"
    },
    "id": "6QvCNCvE8Vaw",
    "outputId": "e43a70e5-9f5f-41dd-b262-70b96c7ce8f4",
    "papermill": {
     "duration": 4.093444,
     "end_time": "2022-11-26T19:10:46.469317",
     "exception": false,
     "start_time": "2022-11-26T19:10:42.375873",
     "status": "completed"
    },
    "tags": []
   },
   "outputs": [
    {
     "data": {
      "text/plain": [
       "<seaborn.axisgrid.PairGrid at 0x7f2af9bcdb50>"
      ]
     },
     "execution_count": 26,
     "metadata": {},
     "output_type": "execute_result"
    },
    {
     "data": {
      "image/png": "[encoded data removed]",
      "text/plain": [
       "<Figure size 720x720 with 20 Axes>"
      ]
     },
     "metadata": {
      "needs_background": "light"
     },
     "output_type": "display_data"
    }
   ],
   "source": [
    "sns.pairplot(df)"
   ]
  },
  {
   "cell_type": "code",
   "execution_count": 27,
   "id": "cbc3e112",
   "metadata": {
    "execution": {
     "iopub.execute_input": "2022-11-26T19:10:46.533828Z",
     "iopub.status.busy": "2022-11-26T19:10:46.533387Z",
     "iopub.status.idle": "2022-11-26T19:10:46.569540Z",
     "shell.execute_reply": "2022-11-26T19:10:46.568079Z"
    },
    "id": "ZYdsAZ3OPvIR",
    "papermill": {
     "duration": 0.071453,
     "end_time": "2022-11-26T19:10:46.572476",
     "exception": false,
     "start_time": "2022-11-26T19:10:46.501023",
     "status": "completed"
    },
    "tags": []
   },
   "outputs": [],
   "source": [
    "from sklearn.preprocessing import LabelEncoder\n",
    "def label_encode(data,column):\n",
    "        label_encoder=LabelEncoder()\n",
    "        return label_encoder.fit_transform(data[column].astype(str))"
   ]
  },
  {
   "cell_type": "code",
   "execution_count": 28,
   "id": "4f58ed2c",
   "metadata": {
    "execution": {
     "iopub.execute_input": "2022-11-26T19:10:46.636592Z",
     "iopub.status.busy": "2022-11-26T19:10:46.636155Z",
     "iopub.status.idle": "2022-11-26T19:10:46.642684Z",
     "shell.execute_reply": "2022-11-26T19:10:46.641916Z"
    },
    "id": "fxIVidAmPzMf",
    "outputId": "b155ad65-20e8-49b2-c971-0eec8c990a62",
    "papermill": {
     "duration": 0.041154,
     "end_time": "2022-11-26T19:10:46.644937",
     "exception": false,
     "start_time": "2022-11-26T19:10:46.603783",
     "status": "completed"
    },
    "tags": []
   },
   "outputs": [
    {
     "data": {
      "text/plain": [
       "Index(['Age', 'City', 'Profession', 'Marital Status', 'Education',\n",
       "       'No. of Family members', 'Annual Income',\n",
       "       'Would you prefer replacing all your vehicles to Electronic vehicles?',\n",
       "       'If Yes/Maybe what type of  EV would you prefer?',\n",
       "       'Do you think Electronic Vehicles are economical?',\n",
       "       'Which brand of vehicle do you currently own?',\n",
       "       'How much money could you spend on an Electronic vehicle?',\n",
       "       'Preference for wheels in EV',\n",
       "       'Do you think Electronic vehicles will replace fuel cars in India?'],\n",
       "      dtype='object')"
      ]
     },
     "execution_count": 28,
     "metadata": {},
     "output_type": "execute_result"
    }
   ],
   "source": [
    "df.columns"
   ]
  },
  {
   "cell_type": "markdown",
   "id": "a76b3a07",
   "metadata": {
    "papermill": {
     "duration": 0.032138,
     "end_time": "2022-11-26T19:10:46.709518",
     "exception": false,
     "start_time": "2022-11-26T19:10:46.677380",
     "status": "completed"
    },
    "tags": []
   },
   "source": []
  },
  {
   "cell_type": "code",
   "execution_count": 29,
   "id": "165e0562",
   "metadata": {
    "execution": {
     "iopub.execute_input": "2022-11-26T19:10:46.774080Z",
     "iopub.status.busy": "2022-11-26T19:10:46.772914Z",
     "iopub.status.idle": "2022-11-26T19:10:46.788549Z",
     "shell.execute_reply": "2022-11-26T19:10:46.787641Z"
    },
    "id": "zrU64bbAP2-O",
    "papermill": {
     "duration": 0.050473,
     "end_time": "2022-11-26T19:10:46.791182",
     "exception": false,
     "start_time": "2022-11-26T19:10:46.740709",
     "status": "completed"
    },
    "tags": []
   },
   "outputs": [],
   "source": [
    "df['City']= label_encode(df,'City')\n",
    "df['Profession']= label_encode(df,'Profession')\n",
    "df['Marital Status']= label_encode(df,'Marital Status')\n",
    "df['Education']= label_encode(df,'Education')\n",
    "df['Would you prefer replacing all your vehicles to Electronic vehicles?']= label_encode(df,'Would you prefer replacing all your vehicles to Electronic vehicles?')\n",
    "df['If Yes/Maybe what type of  EV would you prefer?']= label_encode(df,'If Yes/Maybe what type of  EV would you prefer?')\n",
    "df['Do you think Electronic Vehicles are economical?']= label_encode(df,'Do you think Electronic Vehicles are economical?')\n",
    "df['Which brand of vehicle do you currently own?']= label_encode(df,'Which brand of vehicle do you currently own?')\n",
    "df['Do you think Electronic vehicles will replace fuel cars in India?']= label_encode(df,'Do you think Electronic vehicles will replace fuel cars in India?')\n",
    "df['How much money could you spend on an Electronic vehicle?']= label_encode(df,'How much money could you spend on an Electronic vehicle?')"
   ]
  },
  {
   "cell_type": "code",
   "execution_count": 30,
   "id": "881cb86b",
   "metadata": {
    "execution": {
     "iopub.execute_input": "2022-11-26T19:10:46.856678Z",
     "iopub.status.busy": "2022-11-26T19:10:46.855578Z",
     "iopub.status.idle": "2022-11-26T19:10:46.870361Z",
     "shell.execute_reply": "2022-11-26T19:10:46.869069Z"
    },
    "id": "Wv_5-hEWP3d9",
    "outputId": "3b49f908-acf2-4ea2-da51-878052d7f296",
    "papermill": {
     "duration": 0.049919,
     "end_time": "2022-11-26T19:10:46.873230",
     "exception": false,
     "start_time": "2022-11-26T19:10:46.823311",
     "status": "completed"
    },
    "tags": []
   },
   "outputs": [
    {
     "data": {
      "text/html": [
       "<div>\n",
       "<style scoped>\n",
       "    .dataframe tbody tr th:only-of-type {\n",
       "        vertical-align: middle;\n",
       "    }\n",
       "\n",
       "    .dataframe tbody tr th {\n",
       "        vertical-align: top;\n",
       "    }\n",
       "\n",
       "    .dataframe thead th {\n",
       "        text-align: right;\n",
       "    }\n",
       "</style>\n",
       "<table border=\"1\" class=\"dataframe\">\n",
       "  <thead>\n",
       "    <tr style=\"text-align: right;\">\n",
       "      <th></th>\n",
       "      <th>Age</th>\n",
       "      <th>City</th>\n",
       "      <th>Profession</th>\n",
       "      <th>Marital Status</th>\n",
       "      <th>Education</th>\n",
       "      <th>No. of Family members</th>\n",
       "      <th>Annual Income</th>\n",
       "      <th>Would you prefer replacing all your vehicles to Electronic vehicles?</th>\n",
       "      <th>If Yes/Maybe what type of  EV would you prefer?</th>\n",
       "      <th>Do you think Electronic Vehicles are economical?</th>\n",
       "      <th>Which brand of vehicle do you currently own?</th>\n",
       "      <th>How much money could you spend on an Electronic vehicle?</th>\n",
       "      <th>Preference for wheels in EV</th>\n",
       "      <th>Do you think Electronic vehicles will replace fuel cars in India?</th>\n",
       "    </tr>\n",
       "  </thead>\n",
       "  <tbody>\n",
       "    <tr>\n",
       "      <th>0</th>\n",
       "      <td>30</td>\n",
       "      <td>12</td>\n",
       "      <td>1</td>\n",
       "      <td>1</td>\n",
       "      <td>0</td>\n",
       "      <td>5</td>\n",
       "      <td>1193875.647</td>\n",
       "      <td>0</td>\n",
       "      <td>3</td>\n",
       "      <td>2</td>\n",
       "      <td>4</td>\n",
       "      <td>6</td>\n",
       "      <td>2</td>\n",
       "      <td>0</td>\n",
       "    </tr>\n",
       "    <tr>\n",
       "      <th>1</th>\n",
       "      <td>27</td>\n",
       "      <td>19</td>\n",
       "      <td>1</td>\n",
       "      <td>1</td>\n",
       "      <td>0</td>\n",
       "      <td>4</td>\n",
       "      <td>1844540.398</td>\n",
       "      <td>2</td>\n",
       "      <td>3</td>\n",
       "      <td>2</td>\n",
       "      <td>3</td>\n",
       "      <td>4</td>\n",
       "      <td>4</td>\n",
       "      <td>2</td>\n",
       "    </tr>\n",
       "    <tr>\n",
       "      <th>2</th>\n",
       "      <td>32</td>\n",
       "      <td>10</td>\n",
       "      <td>1</td>\n",
       "      <td>1</td>\n",
       "      <td>0</td>\n",
       "      <td>4</td>\n",
       "      <td>2948150.113</td>\n",
       "      <td>2</td>\n",
       "      <td>1</td>\n",
       "      <td>2</td>\n",
       "      <td>5</td>\n",
       "      <td>4</td>\n",
       "      <td>4</td>\n",
       "      <td>2</td>\n",
       "    </tr>\n",
       "    <tr>\n",
       "      <th>3</th>\n",
       "      <td>55</td>\n",
       "      <td>19</td>\n",
       "      <td>0</td>\n",
       "      <td>1</td>\n",
       "      <td>0</td>\n",
       "      <td>3</td>\n",
       "      <td>2832379.739</td>\n",
       "      <td>0</td>\n",
       "      <td>1</td>\n",
       "      <td>1</td>\n",
       "      <td>4</td>\n",
       "      <td>6</td>\n",
       "      <td>4</td>\n",
       "      <td>1</td>\n",
       "    </tr>\n",
       "    <tr>\n",
       "      <th>4</th>\n",
       "      <td>26</td>\n",
       "      <td>21</td>\n",
       "      <td>1</td>\n",
       "      <td>1</td>\n",
       "      <td>0</td>\n",
       "      <td>4</td>\n",
       "      <td>2638750.576</td>\n",
       "      <td>2</td>\n",
       "      <td>4</td>\n",
       "      <td>2</td>\n",
       "      <td>10</td>\n",
       "      <td>4</td>\n",
       "      <td>4</td>\n",
       "      <td>2</td>\n",
       "    </tr>\n",
       "  </tbody>\n",
       "</table>\n",
       "</div>"
      ],
      "text/plain": [
       "   Age  City  Profession  Marital Status  Education  No. of Family members  \\\n",
       "0   30    12           1               1          0                      5   \n",
       "1   27    19           1               1          0                      4   \n",
       "2   32    10           1               1          0                      4   \n",
       "3   55    19           0               1          0                      3   \n",
       "4   26    21           1               1          0                      4   \n",
       "\n",
       "   Annual Income  \\\n",
       "0    1193875.647   \n",
       "1    1844540.398   \n",
       "2    2948150.113   \n",
       "3    2832379.739   \n",
       "4    2638750.576   \n",
       "\n",
       "   Would you prefer replacing all your vehicles to Electronic vehicles?  \\\n",
       "0                                                  0                      \n",
       "1                                                  2                      \n",
       "2                                                  2                      \n",
       "3                                                  0                      \n",
       "4                                                  2                      \n",
       "\n",
       "   If Yes/Maybe what type of  EV would you prefer?  \\\n",
       "0                                                3   \n",
       "1                                                3   \n",
       "2                                                1   \n",
       "3                                                1   \n",
       "4                                                4   \n",
       "\n",
       "   Do you think Electronic Vehicles are economical?  \\\n",
       "0                                                 2   \n",
       "1                                                 2   \n",
       "2                                                 2   \n",
       "3                                                 1   \n",
       "4                                                 2   \n",
       "\n",
       "   Which brand of vehicle do you currently own?  \\\n",
       "0                                             4   \n",
       "1                                             3   \n",
       "2                                             5   \n",
       "3                                             4   \n",
       "4                                            10   \n",
       "\n",
       "   How much money could you spend on an Electronic vehicle?  \\\n",
       "0                                                  6          \n",
       "1                                                  4          \n",
       "2                                                  4          \n",
       "3                                                  6          \n",
       "4                                                  4          \n",
       "\n",
       "   Preference for wheels in EV  \\\n",
       "0                            2   \n",
       "1                            4   \n",
       "2                            4   \n",
       "3                            4   \n",
       "4                            4   \n",
       "\n",
       "   Do you think Electronic vehicles will replace fuel cars in India?  \n",
       "0                                                  0                  \n",
       "1                                                  2                  \n",
       "2                                                  2                  \n",
       "3                                                  1                  \n",
       "4                                                  2                  "
      ]
     },
     "execution_count": 30,
     "metadata": {},
     "output_type": "execute_result"
    }
   ],
   "source": [
    "df.head()"
   ]
  },
  {
   "cell_type": "code",
   "execution_count": 32,
   "id": "970a2166",
   "metadata": {
    "execution": {
     "iopub.execute_input": "2022-11-26T19:10:47.108012Z",
     "iopub.status.busy": "2022-11-26T19:10:47.107564Z",
     "iopub.status.idle": "2022-11-26T19:10:47.114631Z",
     "shell.execute_reply": "2022-11-26T19:10:47.113731Z"
    },
    "id": "QLtGKoN_QA5a",
    "papermill": {
     "duration": 0.041955,
     "end_time": "2022-11-26T19:10:47.117008",
     "exception": false,
     "start_time": "2022-11-26T19:10:47.075053",
     "status": "completed"
    },
    "tags": []
   },
   "outputs": [],
   "source": [
    "y = df['City']\n",
    "X = df.drop(['City'],axis=1,inplace = True)\n"
   ]
  },
  {
   "cell_type": "code",
   "execution_count": 33,
   "id": "c566d7f6",
   "metadata": {
    "execution": {
     "iopub.execute_input": "2022-11-26T19:10:47.182773Z",
     "iopub.status.busy": "2022-11-26T19:10:47.182048Z",
     "iopub.status.idle": "2022-11-26T19:10:47.187392Z",
     "shell.execute_reply": "2022-11-26T19:10:47.186565Z"
    },
    "id": "GPsSrBC6QCPw",
    "papermill": {
     "duration": 0.040582,
     "end_time": "2022-11-26T19:10:47.189712",
     "exception": false,
     "start_time": "2022-11-26T19:10:47.149130",
     "status": "completed"
    },
    "tags": []
   },
   "outputs": [],
   "source": [
    "def calc_vif(X):\n",
    "\n",
    "    # Calculating VIF\n",
    "    vif = pd.DataFrame()\n",
    "    vif[\"variables\"] = X.columns\n",
    "    vif[\"VIF\"] = [variance_inflation_factor(X.values, i) for i in range(X.shape[1])]\n",
    "\n",
    "    return(vif)"
   ]
  },
  {
   "cell_type": "code",
   "execution_count": 34,
   "id": "fff9ae86",
   "metadata": {
    "execution": {
     "iopub.execute_input": "2022-11-26T19:10:47.256940Z",
     "iopub.status.busy": "2022-11-26T19:10:47.256222Z",
     "iopub.status.idle": "2022-11-26T19:10:47.261450Z",
     "shell.execute_reply": "2022-11-26T19:10:47.260297Z"
    },
    "id": "zSAoH61nQFC7",
    "outputId": "461877e4-d2a0-4ca9-accc-d54f7252f164",
    "papermill": {
     "duration": 0.041486,
     "end_time": "2022-11-26T19:10:47.263987",
     "exception": false,
     "start_time": "2022-11-26T19:10:47.222501",
     "status": "completed"
    },
    "tags": []
   },
   "outputs": [],
   "source": [
    "X = df.iloc[:,:-1]\n"
   ]
  },
  {
   "cell_type": "code",
   "execution_count": 35,
   "id": "12166814",
   "metadata": {
    "execution": {
     "iopub.execute_input": "2022-11-26T19:10:47.330782Z",
     "iopub.status.busy": "2022-11-26T19:10:47.330036Z",
     "iopub.status.idle": "2022-11-26T19:10:47.386588Z",
     "shell.execute_reply": "2022-11-26T19:10:47.385083Z"
    },
    "id": "zS750ukqQHpg",
    "outputId": "4a262c7e-5e5d-4a98-da95-9d752297a8a5",
    "papermill": {
     "duration": 0.094005,
     "end_time": "2022-11-26T19:10:47.390842",
     "exception": false,
     "start_time": "2022-11-26T19:10:47.296837",
     "status": "completed"
    },
    "tags": []
   },
   "outputs": [
    {
     "data": {
      "text/html": [
       "<div>\n",
       "<style scoped>\n",
       "    .dataframe tbody tr th:only-of-type {\n",
       "        vertical-align: middle;\n",
       "    }\n",
       "\n",
       "    .dataframe tbody tr th {\n",
       "        vertical-align: top;\n",
       "    }\n",
       "\n",
       "    .dataframe thead th {\n",
       "        text-align: right;\n",
       "    }\n",
       "</style>\n",
       "<table border=\"1\" class=\"dataframe\">\n",
       "  <thead>\n",
       "    <tr style=\"text-align: right;\">\n",
       "      <th></th>\n",
       "      <th>variables</th>\n",
       "      <th>VIF</th>\n",
       "    </tr>\n",
       "  </thead>\n",
       "  <tbody>\n",
       "    <tr>\n",
       "      <th>0</th>\n",
       "      <td>Age</td>\n",
       "      <td>7.954</td>\n",
       "    </tr>\n",
       "    <tr>\n",
       "      <th>1</th>\n",
       "      <td>Profession</td>\n",
       "      <td>2.900</td>\n",
       "    </tr>\n",
       "    <tr>\n",
       "      <th>2</th>\n",
       "      <td>Marital Status</td>\n",
       "      <td>2.704</td>\n",
       "    </tr>\n",
       "    <tr>\n",
       "      <th>3</th>\n",
       "      <td>Education</td>\n",
       "      <td>1.445</td>\n",
       "    </tr>\n",
       "    <tr>\n",
       "      <th>4</th>\n",
       "      <td>No. of Family members</td>\n",
       "      <td>8.199</td>\n",
       "    </tr>\n",
       "    <tr>\n",
       "      <th>5</th>\n",
       "      <td>Annual Income</td>\n",
       "      <td>5.669</td>\n",
       "    </tr>\n",
       "    <tr>\n",
       "      <th>6</th>\n",
       "      <td>Would you prefer replacing all your vehicles t...</td>\n",
       "      <td>4.127</td>\n",
       "    </tr>\n",
       "    <tr>\n",
       "      <th>7</th>\n",
       "      <td>If Yes/Maybe what type of  EV would you prefer?</td>\n",
       "      <td>7.080</td>\n",
       "    </tr>\n",
       "    <tr>\n",
       "      <th>8</th>\n",
       "      <td>Do you think Electronic Vehicles are economical?</td>\n",
       "      <td>6.238</td>\n",
       "    </tr>\n",
       "    <tr>\n",
       "      <th>9</th>\n",
       "      <td>Which brand of vehicle do you currently own?</td>\n",
       "      <td>3.854</td>\n",
       "    </tr>\n",
       "    <tr>\n",
       "      <th>10</th>\n",
       "      <td>How much money could you spend on an Electroni...</td>\n",
       "      <td>12.832</td>\n",
       "    </tr>\n",
       "    <tr>\n",
       "      <th>11</th>\n",
       "      <td>Preference for wheels in EV</td>\n",
       "      <td>12.317</td>\n",
       "    </tr>\n",
       "  </tbody>\n",
       "</table>\n",
       "</div>"
      ],
      "text/plain": [
       "                                            variables    VIF\n",
       "0                                                 Age  7.954\n",
       "1                                          Profession  2.900\n",
       "2                                      Marital Status  2.704\n",
       "3                                           Education  1.445\n",
       "4                               No. of Family members  8.199\n",
       "5                                       Annual Income  5.669\n",
       "6   Would you prefer replacing all your vehicles t...  4.127\n",
       "7     If Yes/Maybe what type of  EV would you prefer?  7.080\n",
       "8    Do you think Electronic Vehicles are economical?  6.238\n",
       "9        Which brand of vehicle do you currently own?  3.854\n",
       "10  How much money could you spend on an Electroni... 12.832\n",
       "11                        Preference for wheels in EV 12.317"
      ]
     },
     "execution_count": 35,
     "metadata": {},
     "output_type": "execute_result"
    }
   ],
   "source": [
    "calc_vif(X)"
   ]
  },
  {
   "cell_type": "markdown",
   "id": "e33a06d1",
   "metadata": {
    "papermill": {
     "duration": 0.045796,
     "end_time": "2022-11-26T19:10:47.517700",
     "exception": false,
     "start_time": "2022-11-26T19:10:47.471904",
     "status": "completed"
    },
    "tags": []
   },
   "source": [
    "**VIF equal to 1 = variables are not correlated,\n",
    "VIF between 1 and 5 = variables are moderately correlated,\n",
    "VIF greater than 5 = variables are highly correlated**"
   ]
  },
  {
   "cell_type": "markdown",
   "id": "76314805",
   "metadata": {
    "id": "ZgQFxZ4CWRBa",
    "papermill": {
     "duration": 0.031846,
     "end_time": "2022-11-26T19:10:47.581628",
     "exception": false,
     "start_time": "2022-11-26T19:10:47.549782",
     "status": "completed"
    },
    "tags": []
   },
   "source": [
    "**K MEANS MODEL**"
   ]
  },
  {
   "cell_type": "code",
   "execution_count": 36,
   "id": "6c621859",
   "metadata": {
    "execution": {
     "iopub.execute_input": "2022-11-26T19:10:47.648822Z",
     "iopub.status.busy": "2022-11-26T19:10:47.648378Z",
     "iopub.status.idle": "2022-11-26T19:10:59.669168Z",
     "shell.execute_reply": "2022-11-26T19:10:59.667511Z"
    },
    "id": "2_jOqfwKQJwL",
    "outputId": "373c87a0-e8a8-4680-c082-8bcf6a5a1aa1",
    "papermill": {
     "duration": 12.057409,
     "end_time": "2022-11-26T19:10:59.672099",
     "exception": false,
     "start_time": "2022-11-26T19:10:47.614690",
     "status": "completed"
    },
    "tags": []
   },
   "outputs": [
    {
     "data": {
      "image/png": "[encoded data removed]",
      "text/plain": [
       "<Figure size 864x432 with 1 Axes>"
      ]
     },
     "metadata": {
      "needs_background": "light"
     },
     "output_type": "display_data"
    }
   ],
   "source": [
    "from sklearn.cluster import KMeans\n",
    "wcss = []\n",
    "for k in range(1,11):\n",
    "    kmeans = KMeans(n_clusters=k, init=\"k-means++\",random_state=28)\n",
    "    kmeans.fit(X)\n",
    "    wcss.append(kmeans.inertia_)\n",
    "plt.figure(figsize=(12,6))    \n",
    "plt.grid()\n",
    "plt.plot(range(1,11),wcss, linewidth=2, color=\"red\", marker =\"8\")\n",
    "plt.xlabel(\"K Value\")\n",
    "plt.xticks(np.arange(1,11,1))\n",
    "plt.ylabel(\"WCSS\")\n",
    "plt.show()"
   ]
  },
  {
   "cell_type": "code",
   "execution_count": 37,
   "id": "1c78a31e",
   "metadata": {
    "execution": {
     "iopub.execute_input": "2022-11-26T19:10:59.739557Z",
     "iopub.status.busy": "2022-11-26T19:10:59.739128Z",
     "iopub.status.idle": "2022-11-26T19:11:01.025087Z",
     "shell.execute_reply": "2022-11-26T19:11:01.023862Z"
    },
    "id": "7kxT4RfjQNyB",
    "outputId": "8f42925b-0dbd-4741-ea06-1734c3ec68dc",
    "papermill": {
     "duration": 1.322897,
     "end_time": "2022-11-26T19:11:01.028353",
     "exception": false,
     "start_time": "2022-11-26T19:10:59.705456",
     "status": "completed"
    },
    "tags": []
   },
   "outputs": [
    {
     "data": {
      "image/png": "[encoded data removed]",
      "text/plain": [
       "<Figure size 1440x720 with 1 Axes>"
      ]
     },
     "metadata": {
      "needs_background": "light"
     },
     "output_type": "display_data"
    }
   ],
   "source": [
    "km = KMeans(n_clusters=4, random_state=28)\n",
    "clusters = km.fit_predict(df)\n",
    "df[\"Cluster\"] = clusters\n",
    "\n",
    "df_Original[\"Cluster\"] = clusters\n",
    "\n",
    "from mpl_toolkits.mplot3d import Axes3D\n",
    "import matplotlib.pyplot as plt\n",
    "import numpy as np\n",
    "import pandas as pd\n",
    " \n",
    "fig = plt.figure(figsize=(20,10))\n",
    "ax = fig.add_subplot(111, projection='3d')\n",
    "ax.scatter(df.Age[df.Cluster == 0], df[\"Annual Income\"][df.Cluster == 0], df[\"How much money could you spend on an Electronic vehicle?\"][df.Cluster == 0], c='blue', s=60)\n",
    "ax.scatter(df.Age[df.Cluster == 1], df[\"Annual Income\"][df.Cluster == 1], df[\"How much money could you spend on an Electronic vehicle?\"][df.Cluster == 1], c='red', s=60)\n",
    "ax.scatter(df.Age[df.Cluster == 2], df[\"Annual Income\"][df.Cluster == 2], df[\"How much money could you spend on an Electronic vehicle?\"][df.Cluster == 2], c='green', s=60)\n",
    "ax.scatter(df.Age[df.Cluster == 3], df[\"Annual Income\"][df.Cluster == 3], df[\"How much money could you spend on an Electronic vehicle?\"][df.Cluster == 3], c='orange', s=60)\n",
    "\n",
    "ax.view_init(30, 185)\n",
    "plt.xlabel(\"Age\")\n",
    "plt.ylabel(\"Annual Income\")\n",
    "ax.set_zlabel('How much money could you spend on an Electronic vehicle?')\n",
    "plt.show()"
   ]
  },
  {
   "cell_type": "code",
   "execution_count": 38,
   "id": "a9b86cc4",
   "metadata": {
    "execution": {
     "iopub.execute_input": "2022-11-26T19:11:01.097584Z",
     "iopub.status.busy": "2022-11-26T19:11:01.096498Z",
     "iopub.status.idle": "2022-11-26T19:11:01.112239Z",
     "shell.execute_reply": "2022-11-26T19:11:01.111252Z"
    },
    "papermill": {
     "duration": 0.052493,
     "end_time": "2022-11-26T19:11:01.114432",
     "exception": false,
     "start_time": "2022-11-26T19:11:01.061939",
     "status": "completed"
    },
    "tags": []
   },
   "outputs": [
    {
     "data": {
      "text/html": [
       "<div>\n",
       "<style scoped>\n",
       "    .dataframe tbody tr th:only-of-type {\n",
       "        vertical-align: middle;\n",
       "    }\n",
       "\n",
       "    .dataframe tbody tr th {\n",
       "        vertical-align: top;\n",
       "    }\n",
       "\n",
       "    .dataframe thead th {\n",
       "        text-align: right;\n",
       "    }\n",
       "</style>\n",
       "<table border=\"1\" class=\"dataframe\">\n",
       "  <thead>\n",
       "    <tr style=\"text-align: right;\">\n",
       "      <th></th>\n",
       "      <th>Age</th>\n",
       "      <th>Profession</th>\n",
       "      <th>Marital Status</th>\n",
       "      <th>Education</th>\n",
       "      <th>No. of Family members</th>\n",
       "      <th>Annual Income</th>\n",
       "      <th>Would you prefer replacing all your vehicles to Electronic vehicles?</th>\n",
       "      <th>If Yes/Maybe what type of  EV would you prefer?</th>\n",
       "      <th>Do you think Electronic Vehicles are economical?</th>\n",
       "      <th>Which brand of vehicle do you currently own?</th>\n",
       "      <th>How much money could you spend on an Electronic vehicle?</th>\n",
       "      <th>Preference for wheels in EV</th>\n",
       "      <th>Do you think Electronic vehicles will replace fuel cars in India?</th>\n",
       "      <th>Cluster</th>\n",
       "    </tr>\n",
       "  </thead>\n",
       "  <tbody>\n",
       "    <tr>\n",
       "      <th>0</th>\n",
       "      <td>30</td>\n",
       "      <td>1</td>\n",
       "      <td>1</td>\n",
       "      <td>0</td>\n",
       "      <td>5</td>\n",
       "      <td>1193875.647</td>\n",
       "      <td>0</td>\n",
       "      <td>3</td>\n",
       "      <td>2</td>\n",
       "      <td>4</td>\n",
       "      <td>6</td>\n",
       "      <td>2</td>\n",
       "      <td>0</td>\n",
       "      <td>1</td>\n",
       "    </tr>\n",
       "    <tr>\n",
       "      <th>1</th>\n",
       "      <td>27</td>\n",
       "      <td>1</td>\n",
       "      <td>1</td>\n",
       "      <td>0</td>\n",
       "      <td>4</td>\n",
       "      <td>1844540.398</td>\n",
       "      <td>2</td>\n",
       "      <td>3</td>\n",
       "      <td>2</td>\n",
       "      <td>3</td>\n",
       "      <td>4</td>\n",
       "      <td>4</td>\n",
       "      <td>2</td>\n",
       "      <td>3</td>\n",
       "    </tr>\n",
       "    <tr>\n",
       "      <th>2</th>\n",
       "      <td>32</td>\n",
       "      <td>1</td>\n",
       "      <td>1</td>\n",
       "      <td>0</td>\n",
       "      <td>4</td>\n",
       "      <td>2948150.113</td>\n",
       "      <td>2</td>\n",
       "      <td>1</td>\n",
       "      <td>2</td>\n",
       "      <td>5</td>\n",
       "      <td>4</td>\n",
       "      <td>4</td>\n",
       "      <td>2</td>\n",
       "      <td>0</td>\n",
       "    </tr>\n",
       "    <tr>\n",
       "      <th>3</th>\n",
       "      <td>55</td>\n",
       "      <td>0</td>\n",
       "      <td>1</td>\n",
       "      <td>0</td>\n",
       "      <td>3</td>\n",
       "      <td>2832379.739</td>\n",
       "      <td>0</td>\n",
       "      <td>1</td>\n",
       "      <td>1</td>\n",
       "      <td>4</td>\n",
       "      <td>6</td>\n",
       "      <td>4</td>\n",
       "      <td>1</td>\n",
       "      <td>0</td>\n",
       "    </tr>\n",
       "    <tr>\n",
       "      <th>4</th>\n",
       "      <td>26</td>\n",
       "      <td>1</td>\n",
       "      <td>1</td>\n",
       "      <td>0</td>\n",
       "      <td>4</td>\n",
       "      <td>2638750.576</td>\n",
       "      <td>2</td>\n",
       "      <td>4</td>\n",
       "      <td>2</td>\n",
       "      <td>10</td>\n",
       "      <td>4</td>\n",
       "      <td>4</td>\n",
       "      <td>2</td>\n",
       "      <td>0</td>\n",
       "    </tr>\n",
       "  </tbody>\n",
       "</table>\n",
       "</div>"
      ],
      "text/plain": [
       "   Age  Profession  Marital Status  Education  No. of Family members  \\\n",
       "0   30           1               1          0                      5   \n",
       "1   27           1               1          0                      4   \n",
       "2   32           1               1          0                      4   \n",
       "3   55           0               1          0                      3   \n",
       "4   26           1               1          0                      4   \n",
       "\n",
       "   Annual Income  \\\n",
       "0    1193875.647   \n",
       "1    1844540.398   \n",
       "2    2948150.113   \n",
       "3    2832379.739   \n",
       "4    2638750.576   \n",
       "\n",
       "   Would you prefer replacing all your vehicles to Electronic vehicles?  \\\n",
       "0                                                  0                      \n",
       "1                                                  2                      \n",
       "2                                                  2                      \n",
       "3                                                  0                      \n",
       "4                                                  2                      \n",
       "\n",
       "   If Yes/Maybe what type of  EV would you prefer?  \\\n",
       "0                                                3   \n",
       "1                                                3   \n",
       "2                                                1   \n",
       "3                                                1   \n",
       "4                                                4   \n",
       "\n",
       "   Do you think Electronic Vehicles are economical?  \\\n",
       "0                                                 2   \n",
       "1                                                 2   \n",
       "2                                                 2   \n",
       "3                                                 1   \n",
       "4                                                 2   \n",
       "\n",
       "   Which brand of vehicle do you currently own?  \\\n",
       "0                                             4   \n",
       "1                                             3   \n",
       "2                                             5   \n",
       "3                                             4   \n",
       "4                                            10   \n",
       "\n",
       "   How much money could you spend on an Electronic vehicle?  \\\n",
       "0                                                  6          \n",
       "1                                                  4          \n",
       "2                                                  4          \n",
       "3                                                  6          \n",
       "4                                                  4          \n",
       "\n",
       "   Preference for wheels in EV  \\\n",
       "0                            2   \n",
       "1                            4   \n",
       "2                            4   \n",
       "3                            4   \n",
       "4                            4   \n",
       "\n",
       "   Do you think Electronic vehicles will replace fuel cars in India?  Cluster  \n",
       "0                                                  0                        1  \n",
       "1                                                  2                        3  \n",
       "2                                                  2                        0  \n",
       "3                                                  1                        0  \n",
       "4                                                  2                        0  "
      ]
     },
     "execution_count": 38,
     "metadata": {},
     "output_type": "execute_result"
    }
   ],
   "source": [
    "df.head()"
   ]
  },
  {
   "cell_type": "code",
   "execution_count": 39,
   "id": "f7eaf87f",
   "metadata": {
    "execution": {
     "iopub.execute_input": "2022-11-26T19:11:01.184207Z",
     "iopub.status.busy": "2022-11-26T19:11:01.183454Z",
     "iopub.status.idle": "2022-11-26T19:11:01.209153Z",
     "shell.execute_reply": "2022-11-26T19:11:01.208329Z"
    },
    "papermill": {
     "duration": 0.062705,
     "end_time": "2022-11-26T19:11:01.211368",
     "exception": false,
     "start_time": "2022-11-26T19:11:01.148663",
     "status": "completed"
    },
    "tags": []
   },
   "outputs": [
    {
     "data": {
      "text/html": [
       "<div>\n",
       "<style scoped>\n",
       "    .dataframe tbody tr th:only-of-type {\n",
       "        vertical-align: middle;\n",
       "    }\n",
       "\n",
       "    .dataframe tbody tr th {\n",
       "        vertical-align: top;\n",
       "    }\n",
       "\n",
       "    .dataframe thead th {\n",
       "        text-align: right;\n",
       "    }\n",
       "</style>\n",
       "<table border=\"1\" class=\"dataframe\">\n",
       "  <thead>\n",
       "    <tr style=\"text-align: right;\">\n",
       "      <th></th>\n",
       "      <th>Unnamed: 0</th>\n",
       "      <th>Age</th>\n",
       "      <th>City</th>\n",
       "      <th>Profession</th>\n",
       "      <th>Marital Status</th>\n",
       "      <th>Education</th>\n",
       "      <th>No. of Family members</th>\n",
       "      <th>Annual Income</th>\n",
       "      <th>Would you prefer replacing all your vehicles to Electronic vehicles?</th>\n",
       "      <th>If Yes/Maybe what type of  EV would you prefer?</th>\n",
       "      <th>Do you think Electronic Vehicles are economical?</th>\n",
       "      <th>Which brand of vehicle do you currently own?</th>\n",
       "      <th>How much money could you spend on an Electronic vehicle?</th>\n",
       "      <th>Preference for wheels in EV</th>\n",
       "      <th>Do you think Electronic vehicles will replace fuel cars in India?</th>\n",
       "      <th>Cluster</th>\n",
       "    </tr>\n",
       "  </thead>\n",
       "  <tbody>\n",
       "    <tr>\n",
       "      <th>0</th>\n",
       "      <td>0</td>\n",
       "      <td>30</td>\n",
       "      <td>Nabha</td>\n",
       "      <td>None</td>\n",
       "      <td>Single</td>\n",
       "      <td>Graduate</td>\n",
       "      <td>5</td>\n",
       "      <td>1193875.647</td>\n",
       "      <td>Maybe</td>\n",
       "      <td>SUV</td>\n",
       "      <td>Yes</td>\n",
       "      <td>Hyundai</td>\n",
       "      <td>&lt;5 lakhs</td>\n",
       "      <td>2</td>\n",
       "      <td>I don't think so</td>\n",
       "      <td>1</td>\n",
       "    </tr>\n",
       "    <tr>\n",
       "      <th>1</th>\n",
       "      <td>1</td>\n",
       "      <td>27</td>\n",
       "      <td>Pune</td>\n",
       "      <td>None</td>\n",
       "      <td>Single</td>\n",
       "      <td>Graduate</td>\n",
       "      <td>4</td>\n",
       "      <td>1844540.398</td>\n",
       "      <td>Yes</td>\n",
       "      <td>SUV</td>\n",
       "      <td>Yes</td>\n",
       "      <td>Honda</td>\n",
       "      <td>&lt;15 lakhs</td>\n",
       "      <td>4</td>\n",
       "      <td>Yes, in &lt;20years</td>\n",
       "      <td>3</td>\n",
       "    </tr>\n",
       "    <tr>\n",
       "      <th>2</th>\n",
       "      <td>2</td>\n",
       "      <td>32</td>\n",
       "      <td>Kashipur</td>\n",
       "      <td>None</td>\n",
       "      <td>Single</td>\n",
       "      <td>Graduate</td>\n",
       "      <td>4</td>\n",
       "      <td>2948150.113</td>\n",
       "      <td>Yes</td>\n",
       "      <td>Hatchback</td>\n",
       "      <td>Yes</td>\n",
       "      <td>KIA</td>\n",
       "      <td>&lt;15 lakhs</td>\n",
       "      <td>4</td>\n",
       "      <td>Yes, in &lt;20years</td>\n",
       "      <td>0</td>\n",
       "    </tr>\n",
       "    <tr>\n",
       "      <th>3</th>\n",
       "      <td>3</td>\n",
       "      <td>55</td>\n",
       "      <td>Pune</td>\n",
       "      <td>Business</td>\n",
       "      <td>Single</td>\n",
       "      <td>Graduate</td>\n",
       "      <td>3</td>\n",
       "      <td>2832379.739</td>\n",
       "      <td>Maybe</td>\n",
       "      <td>Hatchback</td>\n",
       "      <td>No</td>\n",
       "      <td>Hyundai</td>\n",
       "      <td>&lt;5 lakhs</td>\n",
       "      <td>4</td>\n",
       "      <td>Yes, in &lt;10 years</td>\n",
       "      <td>0</td>\n",
       "    </tr>\n",
       "    <tr>\n",
       "      <th>4</th>\n",
       "      <td>4</td>\n",
       "      <td>26</td>\n",
       "      <td>Satara</td>\n",
       "      <td>None</td>\n",
       "      <td>Single</td>\n",
       "      <td>Graduate</td>\n",
       "      <td>4</td>\n",
       "      <td>2638750.576</td>\n",
       "      <td>Yes</td>\n",
       "      <td>Sedan</td>\n",
       "      <td>Yes</td>\n",
       "      <td>McLaren</td>\n",
       "      <td>&lt;15 lakhs</td>\n",
       "      <td>4</td>\n",
       "      <td>Yes, in &lt;20years</td>\n",
       "      <td>0</td>\n",
       "    </tr>\n",
       "    <tr>\n",
       "      <th>...</th>\n",
       "      <td>...</td>\n",
       "      <td>...</td>\n",
       "      <td>...</td>\n",
       "      <td>...</td>\n",
       "      <td>...</td>\n",
       "      <td>...</td>\n",
       "      <td>...</td>\n",
       "      <td>...</td>\n",
       "      <td>...</td>\n",
       "      <td>...</td>\n",
       "      <td>...</td>\n",
       "      <td>...</td>\n",
       "      <td>...</td>\n",
       "      <td>...</td>\n",
       "      <td>...</td>\n",
       "      <td>...</td>\n",
       "    </tr>\n",
       "    <tr>\n",
       "      <th>995</th>\n",
       "      <td>995</td>\n",
       "      <td>31</td>\n",
       "      <td>Pune</td>\n",
       "      <td>None</td>\n",
       "      <td>Married</td>\n",
       "      <td>Graduate</td>\n",
       "      <td>7</td>\n",
       "      <td>2110722.120</td>\n",
       "      <td>Yes</td>\n",
       "      <td>SUV</td>\n",
       "      <td>Yes</td>\n",
       "      <td>KIA</td>\n",
       "      <td>&lt;25 lakhs</td>\n",
       "      <td>4</td>\n",
       "      <td>Yes, in &lt;10 years</td>\n",
       "      <td>3</td>\n",
       "    </tr>\n",
       "    <tr>\n",
       "      <th>996</th>\n",
       "      <td>996</td>\n",
       "      <td>29</td>\n",
       "      <td>Pune</td>\n",
       "      <td>None</td>\n",
       "      <td>Married</td>\n",
       "      <td>Post Graduate</td>\n",
       "      <td>4</td>\n",
       "      <td>1616287.706</td>\n",
       "      <td>No</td>\n",
       "      <td>SUV</td>\n",
       "      <td>Yes</td>\n",
       "      <td>KIA</td>\n",
       "      <td>&lt;5 lakhs</td>\n",
       "      <td>4</td>\n",
       "      <td>Yes, in &lt;20years</td>\n",
       "      <td>3</td>\n",
       "    </tr>\n",
       "    <tr>\n",
       "      <th>997</th>\n",
       "      <td>997</td>\n",
       "      <td>30</td>\n",
       "      <td>Mumbai</td>\n",
       "      <td>Business</td>\n",
       "      <td>Single</td>\n",
       "      <td>Graduate</td>\n",
       "      <td>4</td>\n",
       "      <td>2202829.029</td>\n",
       "      <td>Yes</td>\n",
       "      <td>SUV</td>\n",
       "      <td>Yes</td>\n",
       "      <td>Honda</td>\n",
       "      <td>&lt;15 lakhs</td>\n",
       "      <td>4</td>\n",
       "      <td>Yes, in &lt;20years</td>\n",
       "      <td>3</td>\n",
       "    </tr>\n",
       "    <tr>\n",
       "      <th>998</th>\n",
       "      <td>998</td>\n",
       "      <td>24</td>\n",
       "      <td>Ahmedabad</td>\n",
       "      <td>None</td>\n",
       "      <td>Married</td>\n",
       "      <td>Graduate</td>\n",
       "      <td>4</td>\n",
       "      <td>1764744.068</td>\n",
       "      <td>Yes</td>\n",
       "      <td>SUV</td>\n",
       "      <td>Yes</td>\n",
       "      <td>Maruti</td>\n",
       "      <td>&lt;15 lakhs</td>\n",
       "      <td>4</td>\n",
       "      <td>Yes, in &lt;20years</td>\n",
       "      <td>3</td>\n",
       "    </tr>\n",
       "    <tr>\n",
       "      <th>999</th>\n",
       "      <td>999</td>\n",
       "      <td>30</td>\n",
       "      <td>Pune</td>\n",
       "      <td>Business</td>\n",
       "      <td>Single</td>\n",
       "      <td>Graduate</td>\n",
       "      <td>4</td>\n",
       "      <td>2486664.468</td>\n",
       "      <td>No</td>\n",
       "      <td>Liftback</td>\n",
       "      <td>Yes</td>\n",
       "      <td>Maruti</td>\n",
       "      <td>&lt;5 lakhs</td>\n",
       "      <td>4</td>\n",
       "      <td>Yes, in &lt;10 years</td>\n",
       "      <td>0</td>\n",
       "    </tr>\n",
       "  </tbody>\n",
       "</table>\n",
       "<p>1000 rows × 16 columns</p>\n",
       "</div>"
      ],
      "text/plain": [
       "     Unnamed: 0  Age       City Profession Marital Status      Education  \\\n",
       "0             0   30      Nabha       None         Single       Graduate   \n",
       "1             1   27       Pune       None         Single       Graduate   \n",
       "2             2   32  Kashipur        None         Single       Graduate   \n",
       "3             3   55       Pune   Business         Single       Graduate   \n",
       "4             4   26     Satara       None         Single       Graduate   \n",
       "..          ...  ...        ...        ...            ...            ...   \n",
       "995         995   31       Pune       None        Married       Graduate   \n",
       "996         996   29       Pune       None        Married  Post Graduate   \n",
       "997         997   30     Mumbai   Business         Single       Graduate   \n",
       "998         998   24  Ahmedabad       None        Married       Graduate   \n",
       "999         999   30       Pune   Business         Single       Graduate   \n",
       "\n",
       "     No. of Family members  Annual Income  \\\n",
       "0                        5    1193875.647   \n",
       "1                        4    1844540.398   \n",
       "2                        4    2948150.113   \n",
       "3                        3    2832379.739   \n",
       "4                        4    2638750.576   \n",
       "..                     ...            ...   \n",
       "995                      7    2110722.120   \n",
       "996                      4    1616287.706   \n",
       "997                      4    2202829.029   \n",
       "998                      4    1764744.068   \n",
       "999                      4    2486664.468   \n",
       "\n",
       "    Would you prefer replacing all your vehicles to Electronic vehicles?  \\\n",
       "0                                                Maybe                     \n",
       "1                                                  Yes                     \n",
       "2                                                  Yes                     \n",
       "3                                                Maybe                     \n",
       "4                                                  Yes                     \n",
       "..                                                 ...                     \n",
       "995                                                Yes                     \n",
       "996                                                 No                     \n",
       "997                                                Yes                     \n",
       "998                                                Yes                     \n",
       "999                                                 No                     \n",
       "\n",
       "    If Yes/Maybe what type of  EV would you prefer?  \\\n",
       "0                                               SUV   \n",
       "1                                               SUV   \n",
       "2                                         Hatchback   \n",
       "3                                         Hatchback   \n",
       "4                                             Sedan   \n",
       "..                                              ...   \n",
       "995                                             SUV   \n",
       "996                                             SUV   \n",
       "997                                             SUV   \n",
       "998                                             SUV   \n",
       "999                                        Liftback   \n",
       "\n",
       "    Do you think Electronic Vehicles are economical?  \\\n",
       "0                                                Yes   \n",
       "1                                                Yes   \n",
       "2                                                Yes   \n",
       "3                                                 No   \n",
       "4                                                Yes   \n",
       "..                                               ...   \n",
       "995                                              Yes   \n",
       "996                                              Yes   \n",
       "997                                              Yes   \n",
       "998                                              Yes   \n",
       "999                                              Yes   \n",
       "\n",
       "    Which brand of vehicle do you currently own?  \\\n",
       "0                                        Hyundai   \n",
       "1                                          Honda   \n",
       "2                                            KIA   \n",
       "3                                        Hyundai   \n",
       "4                                       McLaren    \n",
       "..                                           ...   \n",
       "995                                          KIA   \n",
       "996                                          KIA   \n",
       "997                                        Honda   \n",
       "998                                       Maruti   \n",
       "999                                      Maruti    \n",
       "\n",
       "    How much money could you spend on an Electronic vehicle?  \\\n",
       "0                                             <5 lakhs         \n",
       "1                                            <15 lakhs         \n",
       "2                                            <15 lakhs         \n",
       "3                                             <5 lakhs         \n",
       "4                                            <15 lakhs         \n",
       "..                                                 ...         \n",
       "995                                          <25 lakhs         \n",
       "996                                           <5 lakhs         \n",
       "997                                          <15 lakhs         \n",
       "998                                          <15 lakhs         \n",
       "999                                           <5 lakhs         \n",
       "\n",
       "     Preference for wheels in EV  \\\n",
       "0                              2   \n",
       "1                              4   \n",
       "2                              4   \n",
       "3                              4   \n",
       "4                              4   \n",
       "..                           ...   \n",
       "995                            4   \n",
       "996                            4   \n",
       "997                            4   \n",
       "998                            4   \n",
       "999                            4   \n",
       "\n",
       "    Do you think Electronic vehicles will replace fuel cars in India?  Cluster  \n",
       "0                                     I don't think so                       1  \n",
       "1                                     Yes, in <20years                       3  \n",
       "2                                     Yes, in <20years                       0  \n",
       "3                                    Yes, in <10 years                       0  \n",
       "4                                     Yes, in <20years                       0  \n",
       "..                                                 ...                     ...  \n",
       "995                                  Yes, in <10 years                       3  \n",
       "996                                   Yes, in <20years                       3  \n",
       "997                                   Yes, in <20years                       3  \n",
       "998                                   Yes, in <20years                       3  \n",
       "999                                  Yes, in <10 years                       0  \n",
       "\n",
       "[1000 rows x 16 columns]"
      ]
     },
     "execution_count": 39,
     "metadata": {},
     "output_type": "execute_result"
    }
   ],
   "source": [
    "df1=df_Original.copy()\n",
    "df1"
   ]
  },
  {
   "cell_type": "code",
   "execution_count": 40,
   "id": "5513b257",
   "metadata": {
    "execution": {
     "iopub.execute_input": "2022-11-26T19:11:01.282309Z",
     "iopub.status.busy": "2022-11-26T19:11:01.281912Z",
     "iopub.status.idle": "2022-11-26T19:11:01.294713Z",
     "shell.execute_reply": "2022-11-26T19:11:01.293838Z"
    },
    "papermill": {
     "duration": 0.051018,
     "end_time": "2022-11-26T19:11:01.297110",
     "exception": false,
     "start_time": "2022-11-26T19:11:01.246092",
     "status": "completed"
    },
    "tags": []
   },
   "outputs": [],
   "source": [
    "df1[\"City\"] = df1[\"City\"].replace({\"Pune\":\"Pune\", \"pUNE\": \"Pune\", \"pune\": \"Pune\", \"Pune \": \"Pune\"})\n",
    "df1[\"City\"] = df1[\"City\"].replace({\"Mumbai \":\"Mumbai\", \"Mumbai\": \"Mumbai\"})\n",
    "df1[\"City\"] = df1[\"City\"].replace({\"Banglore \":\"Bengaluru\"})\n",
    "df1[\"City\"] = df1[\"City\"].replace({\"Delhi\":\"New Delhi\", \"Delhi \": \"New Delhi\", \"New Delhi \": \"New Delhi\"})\n",
    "df1[\"City\"] = df1[\"City\"].replace({\"Hakdwani\":\"Haldwani\", \"Haldwani \": \"Haldwani\"})\n",
    "df1[\"City\"] = df1[\"City\"].replace({\"nashik\":\"Nashik\"})"
   ]
  },
  {
   "cell_type": "code",
   "execution_count": 41,
   "id": "f97c559a",
   "metadata": {
    "execution": {
     "iopub.execute_input": "2022-11-26T19:11:01.368528Z",
     "iopub.status.busy": "2022-11-26T19:11:01.367775Z",
     "iopub.status.idle": "2022-11-26T19:11:01.377623Z",
     "shell.execute_reply": "2022-11-26T19:11:01.376404Z"
    },
    "papermill": {
     "duration": 0.048619,
     "end_time": "2022-11-26T19:11:01.380423",
     "exception": false,
     "start_time": "2022-11-26T19:11:01.331804",
     "status": "completed"
    },
    "tags": []
   },
   "outputs": [
    {
     "data": {
      "text/plain": [
       "0    430\n",
       "3    368\n",
       "1    195\n",
       "2      7\n",
       "Name: Cluster, dtype: int64"
      ]
     },
     "execution_count": 41,
     "metadata": {},
     "output_type": "execute_result"
    }
   ],
   "source": [
    "df1['Cluster'].value_counts() "
   ]
  },
  {
   "cell_type": "markdown",
   "id": "6815521b",
   "metadata": {
    "papermill": {
     "duration": 0.034899,
     "end_time": "2022-11-26T19:11:01.450723",
     "exception": false,
     "start_time": "2022-11-26T19:11:01.415824",
     "status": "completed"
    },
    "tags": []
   },
   "source": [
    "# More customers belong to **Cluster** **0 & 3**\n",
    "## Cluster 2 & 1 has very less customers"
   ]
  },
  {
   "cell_type": "code",
   "execution_count": 42,
   "id": "1c6dbf69",
   "metadata": {
    "execution": {
     "iopub.execute_input": "2022-11-26T19:11:01.524541Z",
     "iopub.status.busy": "2022-11-26T19:11:01.524148Z",
     "iopub.status.idle": "2022-11-26T19:11:01.546357Z",
     "shell.execute_reply": "2022-11-26T19:11:01.544933Z"
    },
    "papermill": {
     "duration": 0.062422,
     "end_time": "2022-11-26T19:11:01.549049",
     "exception": false,
     "start_time": "2022-11-26T19:11:01.486627",
     "status": "completed"
    },
    "tags": []
   },
   "outputs": [
    {
     "data": {
      "text/plain": [
       "(7, 16)"
      ]
     },
     "execution_count": 42,
     "metadata": {},
     "output_type": "execute_result"
    }
   ],
   "source": [
    "# Segregrating each cluster\n",
    "\n",
    "Cluster_0 = df1[df1.Cluster==0]\n",
    "Cluster_1 = df1[df1.Cluster==1]\n",
    "Cluster_2 = df1[df1.Cluster==2]\n",
    "Cluster_3 = df1[df1.Cluster==3]\n",
    "Cluster_2.shape"
   ]
  },
  {
   "cell_type": "code",
   "execution_count": 43,
   "id": "22cbc7cb",
   "metadata": {
    "execution": {
     "iopub.execute_input": "2022-11-26T19:11:01.622394Z",
     "iopub.status.busy": "2022-11-26T19:11:01.621754Z",
     "iopub.status.idle": "2022-11-26T19:11:01.633890Z",
     "shell.execute_reply": "2022-11-26T19:11:01.632333Z"
    },
    "papermill": {
     "duration": 0.051152,
     "end_time": "2022-11-26T19:11:01.636306",
     "exception": false,
     "start_time": "2022-11-26T19:11:01.585154",
     "status": "completed"
    },
    "tags": []
   },
   "outputs": [
    {
     "data": {
      "text/plain": [
       "[29    47\n",
       " 28    43\n",
       " 30    43\n",
       " Name: Age, dtype: int64,\n",
       " 31    28\n",
       " 30    23\n",
       " 29    23\n",
       " Name: Age, dtype: int64,\n",
       " 30    2\n",
       " 26    1\n",
       " 29    1\n",
       " Name: Age, dtype: int64,\n",
       " 29    45\n",
       " 28    42\n",
       " 30    37\n",
       " Name: Age, dtype: int64]"
      ]
     },
     "execution_count": 43,
     "metadata": {},
     "output_type": "execute_result"
    }
   ],
   "source": [
    "[Cluster_0['Age'].value_counts().head(3), \n",
    " Cluster_1['Age'].value_counts().head(3), \n",
    " Cluster_2['Age'].value_counts().head(3), \n",
    " Cluster_3['Age'].value_counts().head(3)]"
   ]
  },
  {
   "cell_type": "markdown",
   "id": "52e424d1",
   "metadata": {
    "papermill": {
     "duration": 0.035602,
     "end_time": "2022-11-26T19:11:01.708102",
     "exception": false,
     "start_time": "2022-11-26T19:11:01.672500",
     "status": "completed"
    },
    "tags": []
   },
   "source": [
    "# Based on Cluster 0 & 3, Age group of **28-31** are to be targeted"
   ]
  },
  {
   "cell_type": "markdown",
   "id": "46135f6d",
   "metadata": {
    "papermill": {
     "duration": 0.034836,
     "end_time": "2022-11-26T19:11:02.104643",
     "exception": false,
     "start_time": "2022-11-26T19:11:02.069807",
     "status": "completed"
    },
    "tags": []
   },
   "source": [
    "****Salaried people are very less interested in EV vehicles.****"
   ]
  },
  {
   "cell_type": "code",
   "execution_count": 47,
   "id": "b2cdd7f1",
   "metadata": {
    "execution": {
     "iopub.execute_input": "2022-11-26T19:11:02.176998Z",
     "iopub.status.busy": "2022-11-26T19:11:02.176236Z",
     "iopub.status.idle": "2022-11-26T19:11:02.184260Z",
     "shell.execute_reply": "2022-11-26T19:11:02.183343Z"
    },
    "papermill": {
     "duration": 0.04701,
     "end_time": "2022-11-26T19:11:02.186628",
     "exception": false,
     "start_time": "2022-11-26T19:11:02.139618",
     "status": "completed"
    },
    "tags": []
   },
   "outputs": [
    {
     "data": {
      "text/plain": [
       "[2812149.7606071676, 1097632.5625596757, 10737228.104106281, 2064995.870350378]"
      ]
     },
     "execution_count": 47,
     "metadata": {},
     "output_type": "execute_result"
    }
   ],
   "source": [
    "[Cluster_0['Annual Income'].mean(), \n",
    " Cluster_1['Annual Income'].mean(), \n",
    " Cluster_2['Annual Income'].mean(), \n",
    " Cluster_3['Annual Income'].mean()]"
   ]
  },
  {
   "cell_type": "markdown",
   "id": "99de6191",
   "metadata": {
    "papermill": {
     "duration": 0.035221,
     "end_time": "2022-11-26T19:11:02.257528",
     "exception": false,
     "start_time": "2022-11-26T19:11:02.222307",
     "status": "completed"
    },
    "tags": []
   },
   "source": [
    "# **Cluster 0** customers have **Higher Average Income(Rs. 2812149.76)**, Cluster 1 & 2 have lower Average Income"
   ]
  },
  {
   "cell_type": "code",
   "execution_count": 52,
   "id": "c2d334fc",
   "metadata": {
    "execution": {
     "iopub.execute_input": "2022-11-26T19:11:02.901924Z",
     "iopub.status.busy": "2022-11-26T19:11:02.901284Z",
     "iopub.status.idle": "2022-11-26T19:11:02.912976Z",
     "shell.execute_reply": "2022-11-26T19:11:02.911834Z"
    },
    "papermill": {
     "duration": 0.052026,
     "end_time": "2022-11-26T19:11:02.915408",
     "exception": false,
     "start_time": "2022-11-26T19:11:02.863382",
     "status": "completed"
    },
    "tags": []
   },
   "outputs": [
    {
     "data": {
      "text/plain": [
       "[Graduate         298\n",
       " Post Graduate    132\n",
       " Name: Education, dtype: int64,\n",
       " Graduate         130\n",
       " Post Graduate     65\n",
       " Name: Education, dtype: int64,\n",
       " Graduate         5\n",
       " Post Graduate    2\n",
       " Name: Education, dtype: int64,\n",
       " Graduate         260\n",
       " Post Graduate    108\n",
       " Name: Education, dtype: int64]"
      ]
     },
     "execution_count": 52,
     "metadata": {},
     "output_type": "execute_result"
    }
   ],
   "source": [
    "[Cluster_0['Education'].value_counts().head(),\n",
    " Cluster_1['Education'].value_counts().head(), \n",
    " Cluster_2['Education'].value_counts().head(), \n",
    " Cluster_3['Education'].value_counts().head()]"
   ]
  },
  {
   "cell_type": "markdown",
   "id": "9a91663b",
   "metadata": {
    "papermill": {
     "duration": 0.044404,
     "end_time": "2022-11-26T19:11:11.864880",
     "exception": false,
     "start_time": "2022-11-26T19:11:11.820476",
     "status": "completed"
    },
    "tags": []
   },
   "source": [
    "# Demographic segments\n",
    "\n",
    "## -Age\n",
    "**Target Age group of 28-31**\n",
    "\n",
    "## -Income\n",
    "**Target who earn Rs. 20,64,995 to Rs. 28,12,149 per year. **\n",
    "\n",
    "## -Education\n",
    "**Target Graduates.**\n"
   ]
  }
 ],
 "metadata": {
  "kernelspec": {
   "display_name": "Python 3",
   "language": "python",
   "name": "python3"
  },
  "language_info": {
   "codemirror_mode": {
    "name": "ipython",
    "version": 3
   },
   "file_extension": ".py",
   "mimetype": "text/x-python",
   "name": "python",
   "nbconvert_exporter": "python",
   "pygments_lexer": "ipython3",
   "version": "3.7.0"
  },
  "papermill": {
   "default_parameters": {},
   "duration": 51.241678,
   "end_time": "2022-11-26T19:11:13.812341",
   "environment_variables": {},
   "exception": null,
   "input_path": "__notebook__.ipynb",
   "output_path": "__notebook__.ipynb",
   "parameters": {},
   "start_time": "2022-11-26T19:10:22.570663",
   "version": "2.3.4"
  }
 },
 "nbformat": 4,
 "nbformat_minor": 5
}
